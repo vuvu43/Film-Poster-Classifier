{
  "cells": [
    {
      "cell_type": "code",
      "execution_count": 3,
      "metadata": {
        "colab": {
          "base_uri": "https://localhost:8080/"
        },
        "id": "zZ09LPeSmwjH",
        "outputId": "68d302d9-617a-4225-d615-2bfebea009af"
      },
      "outputs": [
        {
          "output_type": "stream",
          "name": "stdout",
          "text": [
            "Mounted at /content/drive\n"
          ]
        }
      ],
      "source": [
        "from google.colab import drive\n",
        "drive.mount('/content/drive')"
      ]
    },
    {
      "cell_type": "code",
      "execution_count": 2,
      "metadata": {
        "colab": {
          "base_uri": "https://localhost:8080/"
        },
        "id": "PVox7m_Umc7X",
        "outputId": "32eda7d5-ab97-43ef-cd26-bb32b9660cf0"
      },
      "outputs": [
        {
          "output_type": "stream",
          "name": "stdout",
          "text": [
            "O diretório 'sample_data' foi deletado com sucesso.\n"
          ]
        }
      ],
      "source": [
        "#imports utilizados\n",
        "import numpy as np #algebra linear\n",
        "import pandas as pd #data processing, CSV file I/O (e.g. pd.read_csv)\n",
        "import cv2 as cv #manipulação de imagem\n",
        "import requests #baixar iamgens\n",
        "import matplotlib.pyplot as plt\n",
        "import os\n",
        "import glob\n",
        "import shutil\n",
        "\n",
        "def delete_directory(directory_path):\n",
        "    \"\"\"\n",
        "    Deleta o diretório inteiro e todo o seu conteúdo.\n",
        "\n",
        "    Entrada:\n",
        "        - str directory_path: Caminho do diretório a ser deletado.\n",
        "    \"\"\"\n",
        "    if os.path.exists(directory_path):\n",
        "        shutil.rmtree(directory_path)\n",
        "        print(f\"O diretório '{directory_path}' foi deletado com sucesso.\")\n",
        "    else:\n",
        "        print(f\"O diretório '{directory_path}' não existe.\")\n",
        "\n",
        "delete_directory(\"sample_data\")\n",
        "\n",
        "# paths importantes através do código\n",
        "path_to_images = \"/content/drive/MyDrive/Data/*.jpg\"\n",
        "path_to_csv = \"MovieGenre.csv\"\n",
        "path_to_image_dir = \"/content/drive/MyDrive/Data\""
      ]
    },
    {
      "cell_type": "markdown",
      "metadata": {
        "id": "K7ZwnEjNDOt_"
      },
      "source": [
        "# Trabalho Final - Introdução ao Aprendizado de Máquina\n",
        "\n",
        "É possível descobrir o gênero de um filme apenas pelo seu pôster? Considerando apenas pela memória, a \"vibe\" de um filme costuma ser retratada pelo seu pôster, aqui vamos tentar formalizar isso e tentar treinar modelos de classificação para checar se tais modelos são capazes de fazer isso também\n",
        "\n",
        "Para esse trabalho, o dataset escolhido é constituído de 1 arquivo CSV e uma pasta com os pôsteres dos filmes, o arquivo CSV é bem simples, com apenas 6 colunas, então vamos observar quais informações podem ser tiradas dele primeiro.\n"
      ]
    },
    {
      "cell_type": "markdown",
      "metadata": {
        "id": "xwgW341BpePm"
      },
      "source": [
        "# Tratando Dados Parte 1\n"
      ]
    },
    {
      "cell_type": "code",
      "execution_count": null,
      "metadata": {
        "colab": {
          "base_uri": "https://localhost:8080/",
          "height": 310
        },
        "id": "qDBGyLnym3i1",
        "outputId": "a3c8a968-f82e-423d-f757-aafd9a386ed6"
      },
      "outputs": [
        {
          "data": {
            "application/vnd.google.colaboratory.intrinsic+json": {
              "summary": "{\n  \"name\": \"df\",\n  \"rows\": 39246,\n  \"fields\": [\n    {\n      \"column\": \"imdbId\",\n      \"properties\": {\n        \"dtype\": \"number\",\n        \"std\": 1151765,\n        \"min\": 3,\n        \"max\": 6098922,\n        \"num_unique_values\": 38654,\n        \"samples\": [\n          90563,\n          100485,\n          382365\n        ],\n        \"semantic_type\": \"\",\n        \"description\": \"\"\n      }\n    },\n    {\n      \"column\": \"Imdb Link\",\n      \"properties\": {\n        \"dtype\": \"string\",\n        \"num_unique_values\": 38654,\n        \"samples\": [\n          \"http://www.imdb.com/title/tt90563\",\n          \"http://www.imdb.com/title/tt100485\",\n          \"http://www.imdb.com/title/tt382365\"\n        ],\n        \"semantic_type\": \"\",\n        \"description\": \"\"\n      }\n    },\n    {\n      \"column\": \"Title\",\n      \"properties\": {\n        \"dtype\": \"string\",\n        \"num_unique_values\": 38611,\n        \"samples\": [\n          \"Deewaar: Let's Bring Our Heroes Home (2004)\",\n          \"Paranoia (1969)\",\n          \"And God Said to Cain (1970)\"\n        ],\n        \"semantic_type\": \"\",\n        \"description\": \"\"\n      }\n    },\n    {\n      \"column\": \"IMDB Score\",\n      \"properties\": {\n        \"dtype\": \"number\",\n        \"std\": 1.1441349894216897,\n        \"min\": 1.2,\n        \"max\": 9.5,\n        \"num_unique_values\": 84,\n        \"samples\": [\n          1.6,\n          8.3,\n          2.8\n        ],\n        \"semantic_type\": \"\",\n        \"description\": \"\"\n      }\n    },\n    {\n      \"column\": \"Genre\",\n      \"properties\": {\n        \"dtype\": \"category\",\n        \"num_unique_values\": 1293,\n        \"samples\": [\n          \"Action|Family|Romance\",\n          \"Fantasy|Mystery|Romance\",\n          \"Comedy|History|Romance\"\n        ],\n        \"semantic_type\": \"\",\n        \"description\": \"\"\n      }\n    },\n    {\n      \"column\": \"Poster\",\n      \"properties\": {\n        \"dtype\": \"string\",\n        \"num_unique_values\": 38517,\n        \"samples\": [\n          \"https://images-na.ssl-images-amazon.com/images/M/MV5BMTcyNjAzNTMyNF5BMl5BanBnXkFtZTcwMTIyNDcyNA@@._V1_UX182_CR0,0,182,268_AL_.jpg\",\n          \"https://images-na.ssl-images-amazon.com/images/M/MV5BNjY5ODU2OTQzNF5BMl5BanBnXkFtZTcwMDUwMTgzNw@@._V1_UY268_CR110,0,182,268_AL_.jpg\",\n          \"https://images-na.ssl-images-amazon.com/images/M/MV5BMTQxNjA2ODc2MV5BMl5BanBnXkFtZTcwMzc2NjYxOQ@@._V1_UX182_CR0,0,182,268_AL_.jpg\"\n        ],\n        \"semantic_type\": \"\",\n        \"description\": \"\"\n      }\n    }\n  ]\n}",
              "type": "dataframe",
              "variable_name": "df"
            },
            "text/html": [
              "\n",
              "  <div id=\"df-8b8d4cee-c11e-4c4b-a3a3-843c5cd43013\" class=\"colab-df-container\">\n",
              "    <div>\n",
              "<style scoped>\n",
              "    .dataframe tbody tr th:only-of-type {\n",
              "        vertical-align: middle;\n",
              "    }\n",
              "\n",
              "    .dataframe tbody tr th {\n",
              "        vertical-align: top;\n",
              "    }\n",
              "\n",
              "    .dataframe thead th {\n",
              "        text-align: right;\n",
              "    }\n",
              "</style>\n",
              "<table border=\"1\" class=\"dataframe\">\n",
              "  <thead>\n",
              "    <tr style=\"text-align: right;\">\n",
              "      <th></th>\n",
              "      <th>imdbId</th>\n",
              "      <th>Imdb Link</th>\n",
              "      <th>Title</th>\n",
              "      <th>IMDB Score</th>\n",
              "      <th>Genre</th>\n",
              "      <th>Poster</th>\n",
              "    </tr>\n",
              "  </thead>\n",
              "  <tbody>\n",
              "    <tr>\n",
              "      <th>0</th>\n",
              "      <td>114709</td>\n",
              "      <td>http://www.imdb.com/title/tt114709</td>\n",
              "      <td>Toy Story (1995)</td>\n",
              "      <td>8.3</td>\n",
              "      <td>Animation|Adventure|Comedy</td>\n",
              "      <td>https://images-na.ssl-images-amazon.com/images...</td>\n",
              "    </tr>\n",
              "    <tr>\n",
              "      <th>1</th>\n",
              "      <td>113497</td>\n",
              "      <td>http://www.imdb.com/title/tt113497</td>\n",
              "      <td>Jumanji (1995)</td>\n",
              "      <td>6.9</td>\n",
              "      <td>Action|Adventure|Family</td>\n",
              "      <td>https://images-na.ssl-images-amazon.com/images...</td>\n",
              "    </tr>\n",
              "    <tr>\n",
              "      <th>2</th>\n",
              "      <td>113228</td>\n",
              "      <td>http://www.imdb.com/title/tt113228</td>\n",
              "      <td>Grumpier Old Men (1995)</td>\n",
              "      <td>6.6</td>\n",
              "      <td>Comedy|Romance</td>\n",
              "      <td>https://images-na.ssl-images-amazon.com/images...</td>\n",
              "    </tr>\n",
              "    <tr>\n",
              "      <th>3</th>\n",
              "      <td>114885</td>\n",
              "      <td>http://www.imdb.com/title/tt114885</td>\n",
              "      <td>Waiting to Exhale (1995)</td>\n",
              "      <td>5.7</td>\n",
              "      <td>Comedy|Drama|Romance</td>\n",
              "      <td>https://images-na.ssl-images-amazon.com/images...</td>\n",
              "    </tr>\n",
              "    <tr>\n",
              "      <th>4</th>\n",
              "      <td>113041</td>\n",
              "      <td>http://www.imdb.com/title/tt113041</td>\n",
              "      <td>Father of the Bride Part II (1995)</td>\n",
              "      <td>5.9</td>\n",
              "      <td>Comedy|Family|Romance</td>\n",
              "      <td>https://images-na.ssl-images-amazon.com/images...</td>\n",
              "    </tr>\n",
              "  </tbody>\n",
              "</table>\n",
              "</div>\n",
              "    <div class=\"colab-df-buttons\">\n",
              "\n",
              "  <div class=\"colab-df-container\">\n",
              "    <button class=\"colab-df-convert\" onclick=\"convertToInteractive('df-8b8d4cee-c11e-4c4b-a3a3-843c5cd43013')\"\n",
              "            title=\"Convert this dataframe to an interactive table.\"\n",
              "            style=\"display:none;\">\n",
              "\n",
              "  <svg xmlns=\"http://www.w3.org/2000/svg\" height=\"24px\" viewBox=\"0 -960 960 960\">\n",
              "    <path d=\"M120-120v-720h720v720H120Zm60-500h600v-160H180v160Zm220 220h160v-160H400v160Zm0 220h160v-160H400v160ZM180-400h160v-160H180v160Zm440 0h160v-160H620v160ZM180-180h160v-160H180v160Zm440 0h160v-160H620v160Z\"/>\n",
              "  </svg>\n",
              "    </button>\n",
              "\n",
              "  <style>\n",
              "    .colab-df-container {\n",
              "      display:flex;\n",
              "      gap: 12px;\n",
              "    }\n",
              "\n",
              "    .colab-df-convert {\n",
              "      background-color: #E8F0FE;\n",
              "      border: none;\n",
              "      border-radius: 50%;\n",
              "      cursor: pointer;\n",
              "      display: none;\n",
              "      fill: #1967D2;\n",
              "      height: 32px;\n",
              "      padding: 0 0 0 0;\n",
              "      width: 32px;\n",
              "    }\n",
              "\n",
              "    .colab-df-convert:hover {\n",
              "      background-color: #E2EBFA;\n",
              "      box-shadow: 0px 1px 2px rgba(60, 64, 67, 0.3), 0px 1px 3px 1px rgba(60, 64, 67, 0.15);\n",
              "      fill: #174EA6;\n",
              "    }\n",
              "\n",
              "    .colab-df-buttons div {\n",
              "      margin-bottom: 4px;\n",
              "    }\n",
              "\n",
              "    [theme=dark] .colab-df-convert {\n",
              "      background-color: #3B4455;\n",
              "      fill: #D2E3FC;\n",
              "    }\n",
              "\n",
              "    [theme=dark] .colab-df-convert:hover {\n",
              "      background-color: #434B5C;\n",
              "      box-shadow: 0px 1px 3px 1px rgba(0, 0, 0, 0.15);\n",
              "      filter: drop-shadow(0px 1px 2px rgba(0, 0, 0, 0.3));\n",
              "      fill: #FFFFFF;\n",
              "    }\n",
              "  </style>\n",
              "\n",
              "    <script>\n",
              "      const buttonEl =\n",
              "        document.querySelector('#df-8b8d4cee-c11e-4c4b-a3a3-843c5cd43013 button.colab-df-convert');\n",
              "      buttonEl.style.display =\n",
              "        google.colab.kernel.accessAllowed ? 'block' : 'none';\n",
              "\n",
              "      async function convertToInteractive(key) {\n",
              "        const element = document.querySelector('#df-8b8d4cee-c11e-4c4b-a3a3-843c5cd43013');\n",
              "        const dataTable =\n",
              "          await google.colab.kernel.invokeFunction('convertToInteractive',\n",
              "                                                    [key], {});\n",
              "        if (!dataTable) return;\n",
              "\n",
              "        const docLinkHtml = 'Like what you see? Visit the ' +\n",
              "          '<a target=\"_blank\" href=https://colab.research.google.com/notebooks/data_table.ipynb>data table notebook</a>'\n",
              "          + ' to learn more about interactive tables.';\n",
              "        element.innerHTML = '';\n",
              "        dataTable['output_type'] = 'display_data';\n",
              "        await google.colab.output.renderOutput(dataTable, element);\n",
              "        const docLink = document.createElement('div');\n",
              "        docLink.innerHTML = docLinkHtml;\n",
              "        element.appendChild(docLink);\n",
              "      }\n",
              "    </script>\n",
              "  </div>\n",
              "\n",
              "\n",
              "<div id=\"df-46292095-37bd-4c36-9ab5-b3929920ca47\">\n",
              "  <button class=\"colab-df-quickchart\" onclick=\"quickchart('df-46292095-37bd-4c36-9ab5-b3929920ca47')\"\n",
              "            title=\"Suggest charts\"\n",
              "            style=\"display:none;\">\n",
              "\n",
              "<svg xmlns=\"http://www.w3.org/2000/svg\" height=\"24px\"viewBox=\"0 0 24 24\"\n",
              "     width=\"24px\">\n",
              "    <g>\n",
              "        <path d=\"M19 3H5c-1.1 0-2 .9-2 2v14c0 1.1.9 2 2 2h14c1.1 0 2-.9 2-2V5c0-1.1-.9-2-2-2zM9 17H7v-7h2v7zm4 0h-2V7h2v10zm4 0h-2v-4h2v4z\"/>\n",
              "    </g>\n",
              "</svg>\n",
              "  </button>\n",
              "\n",
              "<style>\n",
              "  .colab-df-quickchart {\n",
              "      --bg-color: #E8F0FE;\n",
              "      --fill-color: #1967D2;\n",
              "      --hover-bg-color: #E2EBFA;\n",
              "      --hover-fill-color: #174EA6;\n",
              "      --disabled-fill-color: #AAA;\n",
              "      --disabled-bg-color: #DDD;\n",
              "  }\n",
              "\n",
              "  [theme=dark] .colab-df-quickchart {\n",
              "      --bg-color: #3B4455;\n",
              "      --fill-color: #D2E3FC;\n",
              "      --hover-bg-color: #434B5C;\n",
              "      --hover-fill-color: #FFFFFF;\n",
              "      --disabled-bg-color: #3B4455;\n",
              "      --disabled-fill-color: #666;\n",
              "  }\n",
              "\n",
              "  .colab-df-quickchart {\n",
              "    background-color: var(--bg-color);\n",
              "    border: none;\n",
              "    border-radius: 50%;\n",
              "    cursor: pointer;\n",
              "    display: none;\n",
              "    fill: var(--fill-color);\n",
              "    height: 32px;\n",
              "    padding: 0;\n",
              "    width: 32px;\n",
              "  }\n",
              "\n",
              "  .colab-df-quickchart:hover {\n",
              "    background-color: var(--hover-bg-color);\n",
              "    box-shadow: 0 1px 2px rgba(60, 64, 67, 0.3), 0 1px 3px 1px rgba(60, 64, 67, 0.15);\n",
              "    fill: var(--button-hover-fill-color);\n",
              "  }\n",
              "\n",
              "  .colab-df-quickchart-complete:disabled,\n",
              "  .colab-df-quickchart-complete:disabled:hover {\n",
              "    background-color: var(--disabled-bg-color);\n",
              "    fill: var(--disabled-fill-color);\n",
              "    box-shadow: none;\n",
              "  }\n",
              "\n",
              "  .colab-df-spinner {\n",
              "    border: 2px solid var(--fill-color);\n",
              "    border-color: transparent;\n",
              "    border-bottom-color: var(--fill-color);\n",
              "    animation:\n",
              "      spin 1s steps(1) infinite;\n",
              "  }\n",
              "\n",
              "  @keyframes spin {\n",
              "    0% {\n",
              "      border-color: transparent;\n",
              "      border-bottom-color: var(--fill-color);\n",
              "      border-left-color: var(--fill-color);\n",
              "    }\n",
              "    20% {\n",
              "      border-color: transparent;\n",
              "      border-left-color: var(--fill-color);\n",
              "      border-top-color: var(--fill-color);\n",
              "    }\n",
              "    30% {\n",
              "      border-color: transparent;\n",
              "      border-left-color: var(--fill-color);\n",
              "      border-top-color: var(--fill-color);\n",
              "      border-right-color: var(--fill-color);\n",
              "    }\n",
              "    40% {\n",
              "      border-color: transparent;\n",
              "      border-right-color: var(--fill-color);\n",
              "      border-top-color: var(--fill-color);\n",
              "    }\n",
              "    60% {\n",
              "      border-color: transparent;\n",
              "      border-right-color: var(--fill-color);\n",
              "    }\n",
              "    80% {\n",
              "      border-color: transparent;\n",
              "      border-right-color: var(--fill-color);\n",
              "      border-bottom-color: var(--fill-color);\n",
              "    }\n",
              "    90% {\n",
              "      border-color: transparent;\n",
              "      border-bottom-color: var(--fill-color);\n",
              "    }\n",
              "  }\n",
              "</style>\n",
              "\n",
              "  <script>\n",
              "    async function quickchart(key) {\n",
              "      const quickchartButtonEl =\n",
              "        document.querySelector('#' + key + ' button');\n",
              "      quickchartButtonEl.disabled = true;  // To prevent multiple clicks.\n",
              "      quickchartButtonEl.classList.add('colab-df-spinner');\n",
              "      try {\n",
              "        const charts = await google.colab.kernel.invokeFunction(\n",
              "            'suggestCharts', [key], {});\n",
              "      } catch (error) {\n",
              "        console.error('Error during call to suggestCharts:', error);\n",
              "      }\n",
              "      quickchartButtonEl.classList.remove('colab-df-spinner');\n",
              "      quickchartButtonEl.classList.add('colab-df-quickchart-complete');\n",
              "    }\n",
              "    (() => {\n",
              "      let quickchartButtonEl =\n",
              "        document.querySelector('#df-46292095-37bd-4c36-9ab5-b3929920ca47 button');\n",
              "      quickchartButtonEl.style.display =\n",
              "        google.colab.kernel.accessAllowed ? 'block' : 'none';\n",
              "    })();\n",
              "  </script>\n",
              "</div>\n",
              "\n",
              "    </div>\n",
              "  </div>\n"
            ],
            "text/plain": [
              "   imdbId                           Imdb Link  \\\n",
              "0  114709  http://www.imdb.com/title/tt114709   \n",
              "1  113497  http://www.imdb.com/title/tt113497   \n",
              "2  113228  http://www.imdb.com/title/tt113228   \n",
              "3  114885  http://www.imdb.com/title/tt114885   \n",
              "4  113041  http://www.imdb.com/title/tt113041   \n",
              "\n",
              "                                Title  IMDB Score                       Genre  \\\n",
              "0                    Toy Story (1995)         8.3  Animation|Adventure|Comedy   \n",
              "1                      Jumanji (1995)         6.9     Action|Adventure|Family   \n",
              "2             Grumpier Old Men (1995)         6.6              Comedy|Romance   \n",
              "3            Waiting to Exhale (1995)         5.7        Comedy|Drama|Romance   \n",
              "4  Father of the Bride Part II (1995)         5.9       Comedy|Family|Romance   \n",
              "\n",
              "                                              Poster  \n",
              "0  https://images-na.ssl-images-amazon.com/images...  \n",
              "1  https://images-na.ssl-images-amazon.com/images...  \n",
              "2  https://images-na.ssl-images-amazon.com/images...  \n",
              "3  https://images-na.ssl-images-amazon.com/images...  \n",
              "4  https://images-na.ssl-images-amazon.com/images...  "
            ]
          },
          "execution_count": 4,
          "metadata": {},
          "output_type": "execute_result"
        }
      ],
      "source": [
        "# Primeiramente, vamos carregar o arquivo csv e ver um pouco de como é a cara dele\n",
        "df = pd.read_csv(path_to_csv, encoding=\"ISO-8859-1\")\n",
        "\n",
        "# linhas com valroes 'nan' não me interessam1\n",
        "\n",
        "df = df.dropna()\n",
        "df.head()"
      ]
    },
    {
      "cell_type": "markdown",
      "metadata": {
        "id": "p1c7NdZUwJ-u"
      },
      "source": [
        "Antes de começar a análise do dataframe quero verificar quais filmes já foram baixados e estão disponíveis"
      ]
    },
    {
      "cell_type": "code",
      "execution_count": null,
      "metadata": {
        "id": "2GaSu3l6wJqv"
      },
      "outputs": [],
      "source": [
        "# Quero apenas checar os filmes antes de realmente começar a manipular o df\n",
        "df_test = df.copy()\n",
        "\n",
        "sample_posters = [x.replace(\".jpg\", \"\") for x in os.listdir('SampleMoviePosters') if x.endswith('.jpg')]\n",
        "\n",
        "df_test['imdbId'] = df_test['imdbId'].astype(str)\n",
        "\n",
        "# Filtrando as imagens já baixadas\n",
        "df_test = df_test[df_test['imdbId'].isin(sample_posters)]"
      ]
    },
    {
      "cell_type": "code",
      "execution_count": null,
      "metadata": {
        "colab": {
          "base_uri": "https://localhost:8080/"
        },
        "id": "psxSJMNcz4SA",
        "outputId": "2f3439fd-472f-4a1f-a09d-841ebc4874e2"
      },
      "outputs": [
        {
          "name": "stdout",
          "output_type": "stream",
          "text": [
            "2266\n"
          ]
        },
        {
          "data": {
            "text/plain": [
              "Genre\n",
              "Drama          619\n",
              "Comedy         386\n",
              "Romance        326\n",
              "Crime          124\n",
              "Short          112\n",
              "Adventure       88\n",
              "Mystery         64\n",
              "Horror          62\n",
              "Musical         58\n",
              "Action          50\n",
              "Family          49\n",
              "Fantasy         48\n",
              "Western         42\n",
              "History         42\n",
              "War             38\n",
              "Thriller        37\n",
              "Animation       30\n",
              "Biography       24\n",
              "Documentary     18\n",
              "Sport           14\n",
              "Sci-Fi          13\n",
              "Film-Noir       13\n",
              "Music            9\n",
              "Name: count, dtype: int64"
            ]
          },
          "execution_count": 46,
          "metadata": {},
          "output_type": "execute_result"
        }
      ],
      "source": [
        "# Agora checando os gêneros das imagens\n",
        "df_test['Genre'] = df_test['Genre'].apply(lambda x: x.split('|') if '|' in x else [x])\n",
        "df_test = df_test.explode('Genre')\n",
        "print(len(df_test))\n",
        "df_test['Genre'].value_counts()"
      ]
    },
    {
      "cell_type": "markdown",
      "metadata": {
        "id": "Ia4MmdEOr3la"
      },
      "source": [
        "Parece que as iamgens disponibilizadas estão muito enviesadas, teremos que baixar as prórpias imagens que serão usadas para treinar a rede."
      ]
    },
    {
      "cell_type": "code",
      "execution_count": null,
      "metadata": {
        "id": "hZ1WhNhEAKEi"
      },
      "outputs": [],
      "source": [
        "#Aqui irei manipular o df para que cada filme seja classificado em apenas 1\n",
        "# gênero, mas ainda representando todos os gêneros que ele poderia ser classificado\n",
        "\n",
        "# Filtrar linhas onde 'Genre' não é uma string\n",
        "df = df[df['Genre'].apply(lambda x: isinstance(x, str))]\n",
        "\n",
        "# Dividir a coluna 'Genre' em listas\n",
        "df['Genre'] = df['Genre'].apply(lambda x: x.split('|') if '|' in x else [x])"
      ]
    },
    {
      "cell_type": "code",
      "execution_count": null,
      "metadata": {
        "colab": {
          "base_uri": "https://localhost:8080/"
        },
        "id": "KkCUPEl2tL09",
        "outputId": "f8dd55b8-1633-4dca-a902-3a17b00db3ca"
      },
      "outputs": [
        {
          "data": {
            "text/plain": [
              "0        Animation\n",
              "0        Adventure\n",
              "0           Comedy\n",
              "1           Action\n",
              "1        Adventure\n",
              "           ...    \n",
              "40103        Drama\n",
              "40104       Comedy\n",
              "40105       Horror\n",
              "40106       Action\n",
              "40106       Comedy\n",
              "Name: Genre, Length: 85082, dtype: object"
            ]
          },
          "execution_count": 6,
          "metadata": {},
          "output_type": "execute_result"
        }
      ],
      "source": [
        "# Explodir a coluna 'Genre'\n",
        "df_exploded = df.explode('Genre')\n",
        "\n",
        "# Verificar o resultado\n",
        "df_exploded['Genre']"
      ]
    },
    {
      "cell_type": "markdown",
      "metadata": {
        "id": "gIxHIKJmDS6t"
      },
      "source": [
        "Como queremos classificar os pôsteres nos seus respectivos gêneros, preciso extrair quantos gêneros estão disponiveis no df"
      ]
    },
    {
      "cell_type": "code",
      "execution_count": null,
      "metadata": {
        "colab": {
          "base_uri": "https://localhost:8080/"
        },
        "id": "8MMl02iYoMv2",
        "outputId": "e0b5d644-d15a-495e-cf73-58a99824c289"
      },
      "outputs": [
        {
          "name": "stdout",
          "output_type": "stream",
          "text": [
            "Portanto temos no total 28 gêneros no df.\n"
          ]
        },
        {
          "data": {
            "text/plain": [
              "{'Action',\n",
              " 'Adult',\n",
              " 'Adventure',\n",
              " 'Animation',\n",
              " 'Biography',\n",
              " 'Comedy',\n",
              " 'Crime',\n",
              " 'Documentary',\n",
              " 'Drama',\n",
              " 'Family',\n",
              " 'Fantasy',\n",
              " 'Film-Noir',\n",
              " 'Game-Show',\n",
              " 'History',\n",
              " 'Horror',\n",
              " 'Music',\n",
              " 'Musical',\n",
              " 'Mystery',\n",
              " 'News',\n",
              " 'Reality-TV',\n",
              " 'Romance',\n",
              " 'Sci-Fi',\n",
              " 'Short',\n",
              " 'Sport',\n",
              " 'Talk-Show',\n",
              " 'Thriller',\n",
              " 'War',\n",
              " 'Western'}"
            ]
          },
          "execution_count": 7,
          "metadata": {},
          "output_type": "execute_result"
        }
      ],
      "source": [
        "# Extraindo gêneros do df\n",
        "genres_total = set(df_exploded[\"Genre\"])\n",
        "print(f'Portanto temos no total {len(genres_total)} gêneros no df.')\n",
        "genres_total"
      ]
    },
    {
      "cell_type": "code",
      "execution_count": null,
      "metadata": {
        "colab": {
          "base_uri": "https://localhost:8080/"
        },
        "id": "JiPinjglrXgp",
        "outputId": "4173970d-756a-40ef-9942-215091505563"
      },
      "outputs": [
        {
          "data": {
            "text/plain": [
              "Genre\n",
              "Drama          19850\n",
              "Comedy         12562\n",
              "Romance         6188\n",
              "Action          5307\n",
              "Crime           5249\n",
              "Thriller        4797\n",
              "Horror          3981\n",
              "Adventure       3806\n",
              "Documentary     3556\n",
              "Mystery         2387\n",
              "Family          2084\n",
              "Fantasy         2004\n",
              "Sci-Fi          2002\n",
              "Biography       1971\n",
              "Animation       1704\n",
              "History         1403\n",
              "Music           1270\n",
              "War             1162\n",
              "Short            918\n",
              "Western          846\n",
              "Musical          837\n",
              "Sport            698\n",
              "Film-Noir        403\n",
              "News              79\n",
              "Adult              9\n",
              "Talk-Show          6\n",
              "Reality-TV         2\n",
              "Game-Show          1\n",
              "Name: count, dtype: int64"
            ]
          },
          "execution_count": 8,
          "metadata": {},
          "output_type": "execute_result"
        }
      ],
      "source": [
        "# De todos esses vou escolher os que tiverem mais informação\n",
        "df_exploded['Genre'].value_counts()"
      ]
    },
    {
      "cell_type": "markdown",
      "metadata": {
        "id": "iQfgZ_wbHC68"
      },
      "source": [
        "São 28 gêneros no total, mas vou escolher apenas 6 para serem classificados, o critério é que possua pelo menos 2000 filmes catalogados.\n",
        "\n",
        "Estes foram os gêneros escolhidos:\n",
        "\n",
        "*  Drama\n",
        "*  Comedy\n",
        "*  Romance\n",
        "*  Action\n",
        "*  Crime\n",
        "* Documentary\n"
      ]
    },
    {
      "cell_type": "code",
      "execution_count": 4,
      "metadata": {
        "colab": {
          "base_uri": "https://localhost:8080/"
        },
        "id": "J_dbJL38qi7d",
        "outputId": "0a37b648-7d32-492e-fe34-ed307269c125"
      },
      "outputs": [
        {
          "output_type": "stream",
          "name": "stdout",
          "text": [
            "No total, os filmes serão classificados em 6 gêneros.\n"
          ]
        }
      ],
      "source": [
        "selected_genres = [\"Documentary\", \"Crime\", \"Action\", \"Romance\", \"Comedy\", \"Drama\"]\n",
        "print(f\"No total, os filmes serão classificados em {len(selected_genres)} gêneros.\")"
      ]
    },
    {
      "cell_type": "code",
      "execution_count": null,
      "metadata": {
        "colab": {
          "base_uri": "https://localhost:8080/"
        },
        "id": "4zE8oFHhqklN",
        "outputId": "ae97838a-a003-4fa9-d4a6-c2d18e8420cb"
      },
      "outputs": [
        {
          "data": {
            "text/plain": [
              "imdbId   Title                                             \n",
              "3        Pauvre Pierrot (1892)                                         Comedy\n",
              "8        Edison Kinetoscopic Record of a Sneeze (1894)            Documentary\n",
              "12       The Arrival of a Train (1896)                            Documentary\n",
              "14       Tables Turned on the Gardener (1895)                          Comedy\n",
              "439      The Great Train Robbery (1903)                          Action|Crime\n",
              "                                                                    ...      \n",
              "6041048  Autumn in the Vineyard (2016)                         Comedy|Romance\n",
              "6047684  Signed, Sealed, Delivered: Lost Without You (2016)             Drama\n",
              "6071534  Gringo: The Dangerous Life of John McAfee (2016)         Documentary\n",
              "6081882  Iliza Shlesinger: Confirmed Kills (2016)                      Comedy\n",
              "6098922  Louis Theroux: Savile (2016)                             Documentary\n",
              "Name: Genre, Length: 34074, dtype: object"
            ]
          },
          "execution_count": 10,
          "metadata": {},
          "output_type": "execute_result"
        }
      ],
      "source": [
        "# Vamos limpar nosso df para conter apenas os filmes com os\n",
        "# gêneros selecionados\n",
        "\n",
        "# Seleciona as linhas que contém um gênero selecionado\n",
        "df_filtered = df_exploded[df_exploded['Genre'].isin(selected_genres)]\n",
        "df_filtered = df_filtered.dropna()\n",
        "df_filtered.groupby(['imdbId','Title'])['Genre'].apply('|'.join)"
      ]
    },
    {
      "cell_type": "markdown",
      "metadata": {
        "id": "oaFV4wK4G6yo"
      },
      "source": [
        "# Tratando Dados Parte 2\n",
        "Finalmente com o df devidamente tratado para representar nossos desejos, posso começar a baixar as imagens"
      ]
    },
    {
      "cell_type": "code",
      "execution_count": null,
      "metadata": {
        "id": "TY6QhhyiqqQJ"
      },
      "outputs": [],
      "source": [
        "# cria pastas designadas para cada gênero\n",
        "os.makedirs(path_to_image_dir, exist_ok=True)\n",
        "for g in selected_genres:\n",
        "    os.makedirs(f\"{path_to_image_dir}/{g}\", exist_ok=True)"
      ]
    },
    {
      "cell_type": "code",
      "execution_count": null,
      "metadata": {
        "id": "A_yN39gCEOzC"
      },
      "outputs": [],
      "source": [
        "def get_img_baixadas(path_to_image_dir):\n",
        "    \"\"\"Obtém os IDs das imagens já baixadas em todos os subdiretórios.\"\"\"\n",
        "    ids_baixadas = []\n",
        "\n",
        "    for root, _, files in os.walk(path_to_image_dir):\n",
        "        for f in files:\n",
        "            if f.endswith(\".jpg\"):\n",
        "                image_id = os.path.splitext(f)[0].replace(\".jpg\", \"\")\n",
        "                ids_baixadas.append(image_id)\n",
        "\n",
        "    return ids_baixadas"
      ]
    },
    {
      "cell_type": "code",
      "execution_count": null,
      "metadata": {
        "colab": {
          "base_uri": "https://localhost:8080/"
        },
        "collapsed": true,
        "id": "ET8EGhR0NO1W",
        "outputId": "fc65d661-98d0-40ed-8e3d-566c60b61a15"
      },
      "outputs": [
        {
          "data": {
            "text/plain": [
              "[]"
            ]
          },
          "execution_count": 13,
          "metadata": {},
          "output_type": "execute_result"
        }
      ],
      "source": [
        "get_img_baixadas(path_to_image_dir)"
      ]
    },
    {
      "cell_type": "code",
      "execution_count": null,
      "metadata": {
        "id": "Fa_IlaqUEA_j"
      },
      "outputs": [],
      "source": [
        "def baixar_imagens(df, genre, path_to_image_dir, image_limit=2000):\n",
        "    \"\"\"\n",
        "    Baixa imagens de um DataFrame filtrado por gênero, evitando duplicatas em diretórios irmãos.\n",
        "\n",
        "    Entrada:\n",
        "        - df: dataframe com os links utilizados\n",
        "        - genre: gênero desejado\n",
        "        - path_to_image_dir: diretório onde as imagens serão baixadas\n",
        "        - image_limit: número máximo de imagens a serem baixadas\n",
        "    \"\"\"\n",
        "    # Filtrar DataFrame apenas com as colunas de interesse\n",
        "    filtered_df = df[df['Genre'] == genre]\n",
        "\n",
        "    # Ids das imagens já baixadas em todos os subdiretórios\n",
        "    down_imgs = get_img_baixadas(path_to_image_dir)\n",
        "\n",
        "    # Diretório específico para o gênero\n",
        "    genre_directory = os.path.join(path_to_image_dir, genre)\n",
        "    if not os.path.exists(genre_directory): # se diretório não existe -> erro\n",
        "        raise ValueError(f\"O diretório {genre_directory} não existe.\")\n",
        "\n",
        "    # Contador para o número de imagens baixadas\n",
        "    image_count = len(os.listdir(genre_directory))\n",
        "    print(\"Baixando para:\", genre_directory, image_count, \"já baixadas\")\n",
        "\n",
        "    # Iterar sobre as linhas filtradas do DataFrame\n",
        "    for index, row in filtered_df.iterrows():\n",
        "        image_url = row['Poster']\n",
        "        image_id = str(row['imdbId'])\n",
        "\n",
        "        if image_count % 200 == 0:  # Apenas checando o andamento\n",
        "            print(\"    Baixadas até o momento:\", image_count)\n",
        "\n",
        "        # Se já baixei o suficiente -> break\n",
        "        if image_count >= image_limit:\n",
        "            break\n",
        "\n",
        "        # Verificar se a imagem já foi baixada (baseado em ID)\n",
        "        if image_id in down_imgs:\n",
        "            continue\n",
        "\n",
        "        # Caminho onde o arquivo será guardado\n",
        "        file_path = os.path.join(genre_directory, f\"{image_id}.jpg\")\n",
        "\n",
        "        # Baixando posters\n",
        "        try:\n",
        "            response = requests.get(image_url, stream=True)\n",
        "            if response.status_code == 200:\n",
        "                # Salva a imagem no diretório especificado\n",
        "                with open(file_path, 'wb') as file:\n",
        "                    for chunk in response.iter_content(1024):\n",
        "                        file.write(chunk)\n",
        "\n",
        "                # Adiciona o ID da imagem baixada ao conjunto\n",
        "                down_imgs.append(image_id)\n",
        "\n",
        "                # Só conta depois da imagem ser baixada\n",
        "                image_count += 1\n",
        "            else:\n",
        "                continue\n",
        "        except Exception as e:\n",
        "            continue\n",
        "    print()"
      ]
    },
    {
      "cell_type": "code",
      "execution_count": null,
      "metadata": {
        "colab": {
          "base_uri": "https://localhost:8080/",
          "height": 148
        },
        "id": "BZEghios0PbQ",
        "outputId": "d5af50a5-e1bf-4c01-c23a-d98218d875e4"
      },
      "outputs": [
        {
          "ename": "NameError",
          "evalue": "name 'genre' is not defined",
          "output_type": "error",
          "traceback": [
            "\u001b[0;31m---------------------------------------------------------------------------\u001b[0m",
            "\u001b[0;31mNameError\u001b[0m                                 Traceback (most recent call last)",
            "\u001b[0;32m<ipython-input-21-c017f2f02396>\u001b[0m in \u001b[0;36m<cell line: 1>\u001b[0;34m()\u001b[0m\n\u001b[0;32m----> 1\u001b[0;31m \u001b[0mdf_filtered\u001b[0m\u001b[0;34m[\u001b[0m\u001b[0mdf_filtered\u001b[0m\u001b[0;34m[\u001b[0m\u001b[0;34m'Genre'\u001b[0m\u001b[0;34m]\u001b[0m \u001b[0;34m==\u001b[0m \u001b[0mgenre\u001b[0m\u001b[0;34m]\u001b[0m\u001b[0;34m\u001b[0m\u001b[0;34m\u001b[0m\u001b[0m\n\u001b[0m",
            "\u001b[0;31mNameError\u001b[0m: name 'genre' is not defined"
          ]
        }
      ],
      "source": [
        "df_filtered[df_filtered['Genre'] == 'Comedy']"
      ]
    },
    {
      "cell_type": "code",
      "execution_count": null,
      "metadata": {
        "colab": {
          "base_uri": "https://localhost:8080/"
        },
        "collapsed": true,
        "id": "rXfYwyJy2nL8",
        "outputId": "59ce1b3d-0458-4e34-bd76-2961022a2386"
      },
      "outputs": [
        {
          "name": "stdout",
          "output_type": "stream",
          "text": [
            "Baixando para: /content/drive/MyDrive/Data/Documentary 0 já baixadas\n",
            "    Baixadas até o momento: 0\n",
            "    Baixadas até o momento: 200\n",
            "    Baixadas até o momento: 400\n",
            "    Baixadas até o momento: 600\n",
            "    Baixadas até o momento: 800\n",
            "    Baixadas até o momento: 1000\n",
            "    Baixadas até o momento: 1200\n",
            "    Baixadas até o momento: 1400\n",
            "    Baixadas até o momento: 1600\n",
            "    Baixadas até o momento: 1800\n",
            "    Baixadas até o momento: 2000\n",
            "\n",
            "Baixando para: /content/drive/MyDrive/Data/Crime 0 já baixadas\n",
            "    Baixadas até o momento: 0\n",
            "    Baixadas até o momento: 200\n",
            "    Baixadas até o momento: 400\n",
            "    Baixadas até o momento: 600\n",
            "    Baixadas até o momento: 800\n",
            "    Baixadas até o momento: 1000\n",
            "    Baixadas até o momento: 1200\n",
            "    Baixadas até o momento: 1200\n",
            "    Baixadas até o momento: 1400\n",
            "    Baixadas até o momento: 1400\n",
            "    Baixadas até o momento: 1600\n",
            "    Baixadas até o momento: 1800\n",
            "    Baixadas até o momento: 2000\n",
            "\n",
            "Baixando para: /content/drive/MyDrive/Data/Action 0 já baixadas\n",
            "    Baixadas até o momento: 0\n",
            "    Baixadas até o momento: 200\n",
            "    Baixadas até o momento: 400\n",
            "    Baixadas até o momento: 600\n",
            "    Baixadas até o momento: 600\n",
            "    Baixadas até o momento: 800\n",
            "    Baixadas até o momento: 1000\n",
            "    Baixadas até o momento: 1000\n",
            "    Baixadas até o momento: 1200\n",
            "    Baixadas até o momento: 1400\n",
            "    Baixadas até o momento: 1400\n",
            "    Baixadas até o momento: 1600\n",
            "    Baixadas até o momento: 1800\n",
            "    Baixadas até o momento: 1800\n",
            "    Baixadas até o momento: 2000\n",
            "\n",
            "Baixando para: /content/drive/MyDrive/Data/Romance 0 já baixadas\n",
            "    Baixadas até o momento: 0\n",
            "    Baixadas até o momento: 0\n",
            "    Baixadas até o momento: 200\n",
            "    Baixadas até o momento: 400\n",
            "    Baixadas até o momento: 600\n",
            "    Baixadas até o momento: 800\n",
            "    Baixadas até o momento: 1000\n",
            "    Baixadas até o momento: 1000\n",
            "    Baixadas até o momento: 1200\n",
            "    Baixadas até o momento: 1400\n",
            "    Baixadas até o momento: 1600\n",
            "    Baixadas até o momento: 1800\n",
            "    Baixadas até o momento: 2000\n",
            "\n",
            "Baixando para: /content/drive/MyDrive/Data/Comedy 0 já baixadas\n",
            "    Baixadas até o momento: 0\n",
            "    Baixadas até o momento: 200\n",
            "    Baixadas até o momento: 400\n",
            "    Baixadas até o momento: 600\n",
            "    Baixadas até o momento: 800\n",
            "    Baixadas até o momento: 1000\n",
            "    Baixadas até o momento: 1000\n",
            "    Baixadas até o momento: 1200\n",
            "    Baixadas até o momento: 1200\n",
            "    Baixadas até o momento: 1200\n",
            "    Baixadas até o momento: 1400\n",
            "    Baixadas até o momento: 1400\n",
            "    Baixadas até o momento: 1600\n",
            "    Baixadas até o momento: 1600\n",
            "    Baixadas até o momento: 1600\n",
            "    Baixadas até o momento: 1800\n",
            "    Baixadas até o momento: 1800\n",
            "    Baixadas até o momento: 2000\n",
            "\n",
            "Baixando para: /content/drive/MyDrive/Data/Drama 0 já baixadas\n",
            "    Baixadas até o momento: 0\n",
            "    Baixadas até o momento: 0\n",
            "    Baixadas até o momento: 0\n",
            "    Baixadas até o momento: 0\n",
            "    Baixadas até o momento: 0\n",
            "    Baixadas até o momento: 0\n",
            "    Baixadas até o momento: 200\n",
            "    Baixadas até o momento: 200\n",
            "    Baixadas até o momento: 200\n",
            "    Baixadas até o momento: 200\n",
            "    Baixadas até o momento: 200\n",
            "    Baixadas até o momento: 200\n",
            "    Baixadas até o momento: 400\n",
            "    Baixadas até o momento: 400\n",
            "    Baixadas até o momento: 400\n",
            "    Baixadas até o momento: 400\n",
            "    Baixadas até o momento: 400\n",
            "    Baixadas até o momento: 600\n",
            "    Baixadas até o momento: 600\n",
            "    Baixadas até o momento: 600\n",
            "    Baixadas até o momento: 600\n",
            "    Baixadas até o momento: 800\n",
            "    Baixadas até o momento: 800\n",
            "    Baixadas até o momento: 1000\n",
            "    Baixadas até o momento: 1000\n",
            "    Baixadas até o momento: 1200\n",
            "    Baixadas até o momento: 1200\n",
            "    Baixadas até o momento: 1200\n",
            "    Baixadas até o momento: 1200\n",
            "    Baixadas até o momento: 1200\n",
            "    Baixadas até o momento: 1200\n",
            "    Baixadas até o momento: 1200\n",
            "    Baixadas até o momento: 1200\n",
            "    Baixadas até o momento: 1200\n",
            "    Baixadas até o momento: 1400\n",
            "    Baixadas até o momento: 1400\n",
            "    Baixadas até o momento: 1400\n",
            "    Baixadas até o momento: 1600\n",
            "    Baixadas até o momento: 1600\n",
            "    Baixadas até o momento: 1600\n",
            "    Baixadas até o momento: 1600\n",
            "    Baixadas até o momento: 1800\n",
            "    Baixadas até o momento: 2000\n",
            "\n"
          ]
        }
      ],
      "source": [
        "#Baixando imagens...\n",
        "for g in selected_genres:\n",
        "    baixar_imagens(df_filtered, g, path_to_image_dir, image_limit=2000)"
      ]
    },
    {
      "cell_type": "code",
      "execution_count": null,
      "metadata": {
        "id": "h1FgstZAw7PW"
      },
      "outputs": [],
      "source": [
        "def verificar_duplicatas(path_to_image_dir):\n",
        "    \"\"\"\n",
        "    Verifica se há imagens duplicadas em subdiretórios diferentes.\n",
        "\n",
        "    Entrada:\n",
        "        - path_to_image_dir: diretório onde as imagens estão localizadas\n",
        "    \"\"\"\n",
        "    img_to_dirs = {}\n",
        "\n",
        "    for root, _, files in os.walk(path_to_image_dir):\n",
        "        for file in files:\n",
        "            if file.endswith(\".jpg\"):\n",
        "                image_id = os.path.splitext(file)[0]\n",
        "                if image_id in img_to_dirs:\n",
        "                    img_to_dirs[image_id].append(root)\n",
        "                else:\n",
        "                    img_to_dirs[image_id] = [root]\n",
        "\n",
        "    duplicatas = {img_id: dirs for img_id, dirs in img_to_dirs.items() if len(dirs) > 1}\n",
        "\n",
        "    if duplicatas:\n",
        "        for img_id, dirs in duplicatas.items():\n",
        "            print(f\"Imagem ID {img_id} encontrada nos diretórios: {dirs}\")\n",
        "    else:\n",
        "        print(\"Nenhuma imagem duplicada encontrada.\")"
      ]
    },
    {
      "cell_type": "code",
      "execution_count": null,
      "metadata": {
        "colab": {
          "base_uri": "https://localhost:8080/"
        },
        "id": "PM67gd9LGSSv",
        "outputId": "3c6dadce-cd9b-49c3-faae-7e30850e4056"
      },
      "outputs": [
        {
          "name": "stdout",
          "output_type": "stream",
          "text": [
            "Nenhuma imagem duplicada encontrada.\n"
          ]
        }
      ],
      "source": [
        "verificar_duplicatas(path_to_image_dir)"
      ]
    },
    {
      "cell_type": "code",
      "execution_count": null,
      "metadata": {
        "id": "RLCEndaHPUBp"
      },
      "outputs": [],
      "source": [
        "# Agora preciso checar se a função anterior baixou a quantidade certa de imagens\n",
        "def checar_qnt_imagens(dir:str):\n",
        "    contadores = {}\n",
        "\n",
        "    for genre in selected_genres:\n",
        "        genre_dir = os.path.join(dir, genre)\n",
        "\n",
        "        # Contar quantos arquivos de imagem existem no diretório\n",
        "        num_imagens = len([f for f in os.listdir(genre_dir) if f.endswith(\".jpg\")])\n",
        "\n",
        "        # Armazenar informação\n",
        "        contadores[genre] = num_imagens\n",
        "\n",
        "    return contadores"
      ]
    },
    {
      "cell_type": "code",
      "execution_count": null,
      "metadata": {
        "colab": {
          "base_uri": "https://localhost:8080/"
        },
        "id": "dpz3D7p9QswT",
        "outputId": "9228f25f-c5bf-43d0-aff7-8602a0a6f530"
      },
      "outputs": [
        {
          "name": "stdout",
          "output_type": "stream",
          "text": [
            "Imagens dentro de cada diretório: {'Documentary': 2000, 'Crime': 2000, 'Action': 2000, 'Romance': 2000, 'Comedy': 2000, 'Drama': 2000}\n",
            "Imagens total: 12000\n"
          ]
        }
      ],
      "source": [
        "check = checar_qnt_imagens(path_to_image_dir)\n",
        "print(\"Imagens dentro de cada diretório:\", check)\n",
        "print(\"Imagens total:\", sum(check.values()))"
      ]
    },
    {
      "cell_type": "markdown",
      "metadata": {
        "id": "d8foAtkoOVrC"
      },
      "source": [
        "Agora nosso dataset está bem balanceado, vamos separá-lo em treino/validação e teste e carregá-lo para dentro do código usando tensorflow e keras"
      ]
    },
    {
      "cell_type": "code",
      "execution_count": 5,
      "metadata": {
        "id": "qr16nxOqteAB"
      },
      "outputs": [],
      "source": [
        "import tensorflow as tf\n",
        "from tensorflow import keras\n",
        "from keras.layers import Rescaling\n",
        "from keras.preprocessing.image import ImageDataGenerator\n",
        "from sklearn.model_selection import train_test_split"
      ]
    },
    {
      "cell_type": "code",
      "execution_count": 6,
      "metadata": {
        "id": "yocftpDVBJKp"
      },
      "outputs": [],
      "source": [
        "# Define os caminhos\n",
        "data = '/content/drive/MyDrive/Data_Separated'\n",
        "train_dir = data + '/Train'\n",
        "val_dir = data + '/Validation'\n",
        "test_dir = data + '/Test'"
      ]
    },
    {
      "cell_type": "code",
      "execution_count": null,
      "metadata": {
        "id": "AoLqDpM9nNKQ"
      },
      "outputs": [],
      "source": [
        "# Célula para separar conjunto de dados em treino/validação/teste\n",
        "\n",
        "# Crie as pastas de treino, validação e teste se não existirem\n",
        "for dir_path in [train_dir, val_dir, test_dir]:\n",
        "    if not os.path.exists(dir_path):\n",
        "        os.makedirs(dir_path)\n",
        "\n",
        "# Obtenha a lista de classes\n",
        "classes = selected_genres.copy()\n",
        "\n",
        "# Define a proporção dos conjuntos\n",
        "# Treino 70%; Validação 15%; Teste 15%\n",
        "test_size = 0.15\n",
        "val_size = 0.15 / (1 - test_size)  # Proporção de validação em relação ao conjunto de treino+validação\n",
        "\n",
        "for cls in classes:\n",
        "    cls_dir = os.path.join(path_to_image_dir, cls)\n",
        "\n",
        "    # Crie diretórios de classe para treino, validação e teste\n",
        "    cls_train_dir = os.path.join(train_dir, cls)\n",
        "    cls_val_dir = os.path.join(val_dir, cls)\n",
        "    cls_test_dir = os.path.join(test_dir, cls)\n",
        "\n",
        "    for dir_path in [cls_train_dir, cls_val_dir, cls_test_dir]:\n",
        "        if not os.path.exists(dir_path):\n",
        "            os.makedirs(dir_path)\n",
        "\n",
        "    # Liste todas as imagens da classe\n",
        "    images = os.listdir(cls_dir)\n",
        "    images = [img for img in images if img.endswith(('.png', '.jpg', '.jpeg'))]\n",
        "\n",
        "    # Divida em treino+validação e teste\n",
        "    train_val_imgs, test_imgs = train_test_split(images, test_size=test_size, random_state=42, stratify=[cls]*len(images))\n",
        "\n",
        "    # Divida treino+validação em treino e validação\n",
        "    train_imgs, val_imgs = train_test_split(train_val_imgs, test_size=val_size, random_state=42, stratify=[cls]*len(train_val_imgs))\n",
        "\n",
        "    # Mova as imagens para os diretórios apropriados\n",
        "    for img in train_imgs:\n",
        "        shutil.copy2(os.path.join(cls_dir, img), os.path.join(cls_train_dir, img))\n",
        "    for img in val_imgs:\n",
        "        shutil.copy2(os.path.join(cls_dir, img), os.path.join(cls_val_dir, img))\n",
        "    for img in test_imgs:\n",
        "        shutil.copy2(os.path.join(cls_dir, img), os.path.join(cls_test_dir, img))\n"
      ]
    },
    {
      "cell_type": "code",
      "execution_count": 7,
      "metadata": {
        "id": "9g5E5r78t0Im"
      },
      "outputs": [],
      "source": [
        "datagen = ImageDataGenerator(rotation_range=40,\n",
        "                             width_shift_range=0.2,\n",
        "                             height_shift_range=0.2,\n",
        "                             shear_range=0.2,\n",
        "                             zoom_range=0.2,\n",
        "                             horizontal_flip=True,\n",
        "                             fill_mode='nearest')"
      ]
    },
    {
      "cell_type": "code",
      "execution_count": 8,
      "metadata": {
        "colab": {
          "base_uri": "https://localhost:8080/"
        },
        "id": "AO8xejVcwGPH",
        "outputId": "777db119-3d6d-47c4-e41b-d9f67f21aad5"
      },
      "outputs": [
        {
          "output_type": "stream",
          "name": "stdout",
          "text": [
            "Found 8400 images belonging to 6 classes.\n",
            "Found 1800 images belonging to 6 classes.\n",
            "Found 1800 images belonging to 6 classes.\n"
          ]
        }
      ],
      "source": [
        "# Separa imagens em treino e validação, também faz resize nas imagens\n",
        "# e aplica camadas de augmentação de dados\n",
        "\n",
        "train_generator= datagen.flow_from_directory(train_dir,\n",
        "                                              target_size=(180, 180),\n",
        "                                              batch_size=32,\n",
        "                                              class_mode='categorical')\n",
        "\n",
        "val_generator = datagen.flow_from_directory(val_dir,\n",
        "                                            target_size=(180, 180),\n",
        "                                            batch_size=32,\n",
        "                                            class_mode='categorical')\n",
        "\n",
        "test_generator = datagen.flow_from_directory(test_dir,\n",
        "                                            target_size=(180, 180),\n",
        "                                            batch_size=32,\n",
        "                                            class_mode='categorical')\n"
      ]
    },
    {
      "cell_type": "code",
      "execution_count": 9,
      "metadata": {
        "colab": {
          "base_uri": "https://localhost:8080/"
        },
        "id": "0I_gAFp5A7jH",
        "outputId": "ae9aa5d1-c7ea-47cf-94d6-97a32cfcf229"
      },
      "outputs": [
        {
          "output_type": "stream",
          "name": "stdout",
          "text": [
            "{'Action': 0, 'Comedy': 1, 'Crime': 2, 'Documentary': 3, 'Drama': 4, 'Romance': 5}\n"
          ]
        }
      ],
      "source": [
        "class_names = train_generator.class_indices\n",
        "print(class_names)"
      ]
    },
    {
      "cell_type": "markdown",
      "metadata": {
        "id": "nJyfVXJZyyni"
      },
      "source": [
        "# Modelos de Classificação\n",
        "Como foi pedido na descrição do trabalho, haverão 2 modelos de classificação abrangidos aqui. O primeiro será uma rede neural e o segundo um modelo de floresta aleatória"
      ]
    },
    {
      "cell_type": "markdown",
      "metadata": {
        "id": "THJMdiLCzAbt"
      },
      "source": [
        "## Rede Neural - Modelo 1"
      ]
    },
    {
      "cell_type": "code",
      "execution_count": 18,
      "metadata": {
        "id": "4EXvD7YuzFKJ"
      },
      "outputs": [],
      "source": [
        "# imports para criar a rede\n",
        "from keras.models import Sequential\n",
        "from keras.layers import Rescaling, BatchNormalization, Conv2D, MaxPooling2D, Flatten, Dense, Dropout\n",
        "from keras.optimizers import Adam\n",
        "from sklearn.metrics import confusion_matrix, ConfusionMatrixDisplay, classification_report"
      ]
    },
    {
      "cell_type": "code",
      "execution_count": 11,
      "metadata": {
        "id": "hDYbaeLLzUqJ"
      },
      "outputs": [],
      "source": [
        "# Cria rede\n",
        "model_nn = Sequential()\n",
        "\n",
        "# Camada de entrada\n",
        "model_nn.add(Rescaling(1./255, input_shape=(180, 180, 3)))\n",
        "\n",
        "# Camada convolucional 1\n",
        "model_nn.add(Conv2D(64, (3, 3), activation='relu'))\n",
        "model_nn.add(MaxPooling2D())\n",
        "\n",
        "# Camada convolucional 2\n",
        "model_nn.add(Conv2D(32, (3, 3), activation='relu'))\n",
        "model_nn.add(MaxPooling2D())\n",
        "\n",
        "# Camada convolucional 3\n",
        "model_nn.add(Conv2D(32, (3, 3), activation='relu'))\n",
        "model_nn.add(MaxPooling2D())\n",
        "\n",
        "# Flatten para conectar às camadas densas\n",
        "model_nn.add(Flatten())\n",
        "\n",
        "# Camada densa 1\n",
        "model_nn.add(Dense(64, activation='relu'))\n",
        "\n",
        "# Dropout para prevenir overfitting\n",
        "model_nn.add(Dropout(0.4))\n",
        "\n",
        "# Camada densa 2\n",
        "model_nn.add(Dense(32, activation='relu'))\n",
        "\n",
        "# Camada de saída\n",
        "model_nn.add(Dense(len(class_names), activation='softmax'))\n",
        "\n",
        "# Compilação do modelo\n",
        "model_nn.compile(optimizer=Adam(learning_rate=0.0001),\n",
        "                 loss='categorical_crossentropy',\n",
        "                 metrics=['accuracy'])"
      ]
    },
    {
      "cell_type": "code",
      "execution_count": 13,
      "metadata": {
        "colab": {
          "base_uri": "https://localhost:8080/"
        },
        "id": "dsytEdUP-2ZU",
        "outputId": "ecb1972c-e1b0-4b0e-9ca6-0c027e15d47c"
      },
      "outputs": [
        {
          "output_type": "execute_result",
          "data": {
            "text/plain": [
              "<tensorflow.python.checkpoint.checkpoint.CheckpointLoadStatus at 0x7d72c424bfa0>"
            ]
          },
          "metadata": {},
          "execution_count": 13
        }
      ],
      "source": [
        "model_nn.load_weights('Pesos-Final-Teste35')"
      ]
    },
    {
      "cell_type": "code",
      "execution_count": null,
      "metadata": {
        "id": "auwXaW3q44nw"
      },
      "outputs": [],
      "source": [
        "hist = model_nn.fit(train_generator, validation_data=val_generator, epochs=35)"
      ]
    },
    {
      "cell_type": "code",
      "execution_count": null,
      "metadata": {
        "id": "I_IwZKU9lAl2"
      },
      "outputs": [],
      "source": [
        "model_nn.save('Pesos-Final-Teste35', save_format='tf')"
      ]
    },
    {
      "cell_type": "code",
      "execution_count": 15,
      "metadata": {
        "colab": {
          "base_uri": "https://localhost:8080/",
          "height": 492
        },
        "id": "RtcqAIomMEt3",
        "outputId": "0698ac3d-75aa-44d1-b5a1-c4ca67ec5fa0"
      },
      "outputs": [
        {
          "output_type": "stream",
          "name": "stdout",
          "text": [
            "57/57 [==============================] - 137s 2s/step\n"
          ]
        },
        {
          "output_type": "execute_result",
          "data": {
            "text/plain": [
              "<sklearn.metrics._plot.confusion_matrix.ConfusionMatrixDisplay at 0x7d72c4103670>"
            ]
          },
          "metadata": {},
          "execution_count": 15
        },
        {
          "output_type": "display_data",
          "data": {
            "text/plain": [
              "<Figure size 640x480 with 2 Axes>"
            ],
            "image/png": "[encoded data removed]"
          },
          "metadata": {}
        }
      ],
      "source": [
        "# Matriz de confusão\n",
        "Y_pred = model_nn.predict(test_generator)\n",
        "y_pred = np.argmax(Y_pred, axis=1)\n",
        "\n",
        "cm = confusion_matrix(test_generator.classes, y_pred)\n",
        "disp = ConfusionMatrixDisplay(confusion_matrix=cm, display_labels=selected_genres)\n",
        "disp.plot()"
      ]
    },
    {
      "cell_type": "code",
      "source": [
        "certos = 0\n",
        "for i in range(len(cm)):\n",
        "    certos += cm[i][i]\n",
        "print(f'Acurácia: {certos / np.sum(cm)}')\n",
        "\n",
        "print(classification_report(test_generator.classes, y_pred, target_names=selected_genres))"
      ],
      "metadata": {
        "colab": {
          "base_uri": "https://localhost:8080/"
        },
        "id": "F17MvTTQ753k",
        "outputId": "db8446ac-8dcf-484d-c268-a649f4ec76ab"
      },
      "execution_count": 29,
      "outputs": [
        {
          "output_type": "stream",
          "name": "stdout",
          "text": [
            "Acurácia: 0.14777777777777779\n",
            "              precision    recall  f1-score   support\n",
            "\n",
            " Documentary       0.14      0.17      0.16       300\n",
            "       Crime       0.11      0.11      0.11       300\n",
            "      Action       0.15      0.10      0.12       300\n",
            "     Romance       0.15      0.17      0.16       300\n",
            "      Comedy       0.19      0.13      0.15       300\n",
            "       Drama       0.16      0.21      0.18       300\n",
            "\n",
            "    accuracy                           0.15      1800\n",
            "   macro avg       0.15      0.15      0.15      1800\n",
            "weighted avg       0.15      0.15      0.15      1800\n",
            "\n"
          ]
        }
      ]
    },
    {
      "cell_type": "markdown",
      "metadata": {
        "id": "Uky_VK-oBZX2"
      },
      "source": [
        "## Floresta Aleatória - Modelo 2"
      ]
    },
    {
      "cell_type": "code",
      "execution_count": null,
      "metadata": {
        "id": "3gKxTXQjBaKP"
      },
      "outputs": [],
      "source": [
        "from skimage.feature import hog\n",
        "from sklearn.model_selection import train_test_split\n",
        "from sklearn.ensemble import RandomForestClassifier\n",
        "from sklearn.metrics import accuracy_score, classification_report, confusion_matrix, ConfusionMatrixDisplay"
      ]
    },
    {
      "cell_type": "code",
      "execution_count": null,
      "metadata": {
        "id": "IqpbXVPqBbwE"
      },
      "outputs": [],
      "source": [
        "# Função para extrair características HOG de uma imagem colorida\n",
        "def extract_hog_features(image_path):\n",
        "    image = cv.imread(image_path)\n",
        "    resized_img = cv.resize(image, (180, 180))\n",
        "    hog_features = []\n",
        "\n",
        "    for channel in range(resized_img.shape[2]):  # Para cada canal de cor (R, G, B)\n",
        "        channel_features, _ = hog(resized_img[:, :, channel], orientations=8, pixels_per_cell=(16, 16),\n",
        "                                  cells_per_block=(1, 1), visualize=True)\n",
        "        hog_features.extend(channel_features)\n",
        "\n",
        "    return hog_features"
      ]
    },
    {
      "cell_type": "code",
      "execution_count": null,
      "metadata": {
        "id": "30FhEE1iBdYG"
      },
      "outputs": [],
      "source": [
        "X = []\n",
        "y = []\n",
        "\n",
        "# Extraindo características HOG e rótulos\n",
        "for genre in selected_genres:\n",
        "    genre_dir = os.path.join(path_to_image_dir, genre)\n",
        "\n",
        "    for img_file in os.listdir(genre_dir):\n",
        "        img_path = os.path.join(genre_dir, img_file)\n",
        "        features = extract_hog_features(img_path)\n",
        "        X.append(features)\n",
        "        y.append(selected_genres.index(genre))\n",
        "\n",
        "X = np.array(X)\n",
        "y = np.array(y)"
      ]
    },
    {
      "cell_type": "code",
      "execution_count": null,
      "metadata": {
        "id": "9tjV5bNoBgHW"
      },
      "outputs": [],
      "source": [
        "# Dividindo os dados em conjuntos de treinamento e teste\n",
        "X_train, X_test, y_train, y_test = train_test_split(X, y, test_size=0.3, random_state=42)"
      ]
    },
    {
      "cell_type": "code",
      "execution_count": null,
      "metadata": {
        "colab": {
          "base_uri": "https://localhost:8080/",
          "height": 92
        },
        "id": "YGe3ZJ-8BhVT",
        "outputId": "332257da-8763-46c0-daff-3075d8fc7c2c"
      },
      "outputs": [
        {
          "data": {
            "text/html": [
              "<style>#sk-container-id-3 {color: black;background-color: white;}#sk-container-id-3 pre{padding: 0;}#sk-container-id-3 div.sk-toggleable {background-color: white;}#sk-container-id-3 label.sk-toggleable__label {cursor: pointer;display: block;width: 100%;margin-bottom: 0;padding: 0.3em;box-sizing: border-box;text-align: center;}#sk-container-id-3 label.sk-toggleable__label-arrow:before {content: \"▸\";float: left;margin-right: 0.25em;color: #696969;}#sk-container-id-3 label.sk-toggleable__label-arrow:hover:before {color: black;}#sk-container-id-3 div.sk-estimator:hover label.sk-toggleable__label-arrow:before {color: black;}#sk-container-id-3 div.sk-toggleable__content {max-height: 0;max-width: 0;overflow: hidden;text-align: left;background-color: #f0f8ff;}#sk-container-id-3 div.sk-toggleable__content pre {margin: 0.2em;color: black;border-radius: 0.25em;background-color: #f0f8ff;}#sk-container-id-3 input.sk-toggleable__control:checked~div.sk-toggleable__content {max-height: 200px;max-width: 100%;overflow: auto;}#sk-container-id-3 input.sk-toggleable__control:checked~label.sk-toggleable__label-arrow:before {content: \"▾\";}#sk-container-id-3 div.sk-estimator input.sk-toggleable__control:checked~label.sk-toggleable__label {background-color: #d4ebff;}#sk-container-id-3 div.sk-label input.sk-toggleable__control:checked~label.sk-toggleable__label {background-color: #d4ebff;}#sk-container-id-3 input.sk-hidden--visually {border: 0;clip: rect(1px 1px 1px 1px);clip: rect(1px, 1px, 1px, 1px);height: 1px;margin: -1px;overflow: hidden;padding: 0;position: absolute;width: 1px;}#sk-container-id-3 div.sk-estimator {font-family: monospace;background-color: #f0f8ff;border: 1px dotted black;border-radius: 0.25em;box-sizing: border-box;margin-bottom: 0.5em;}#sk-container-id-3 div.sk-estimator:hover {background-color: #d4ebff;}#sk-container-id-3 div.sk-parallel-item::after {content: \"\";width: 100%;border-bottom: 1px solid gray;flex-grow: 1;}#sk-container-id-3 div.sk-label:hover label.sk-toggleable__label {background-color: #d4ebff;}#sk-container-id-3 div.sk-serial::before {content: \"\";position: absolute;border-left: 1px solid gray;box-sizing: border-box;top: 0;bottom: 0;left: 50%;z-index: 0;}#sk-container-id-3 div.sk-serial {display: flex;flex-direction: column;align-items: center;background-color: white;padding-right: 0.2em;padding-left: 0.2em;position: relative;}#sk-container-id-3 div.sk-item {position: relative;z-index: 1;}#sk-container-id-3 div.sk-parallel {display: flex;align-items: stretch;justify-content: center;background-color: white;position: relative;}#sk-container-id-3 div.sk-item::before, #sk-container-id-3 div.sk-parallel-item::before {content: \"\";position: absolute;border-left: 1px solid gray;box-sizing: border-box;top: 0;bottom: 0;left: 50%;z-index: -1;}#sk-container-id-3 div.sk-parallel-item {display: flex;flex-direction: column;z-index: 1;position: relative;background-color: white;}#sk-container-id-3 div.sk-parallel-item:first-child::after {align-self: flex-end;width: 50%;}#sk-container-id-3 div.sk-parallel-item:last-child::after {align-self: flex-start;width: 50%;}#sk-container-id-3 div.sk-parallel-item:only-child::after {width: 0;}#sk-container-id-3 div.sk-dashed-wrapped {border: 1px dashed gray;margin: 0 0.4em 0.5em 0.4em;box-sizing: border-box;padding-bottom: 0.4em;background-color: white;}#sk-container-id-3 div.sk-label label {font-family: monospace;font-weight: bold;display: inline-block;line-height: 1.2em;}#sk-container-id-3 div.sk-label-container {text-align: center;}#sk-container-id-3 div.sk-container {/* jupyter's `normalize.less` sets `[hidden] { display: none; }` but bootstrap.min.css set `[hidden] { display: none !important; }` so we also need the `!important` here to be able to override the default hidden behavior on the sphinx rendered scikit-learn.org. See: https://github.com/scikit-learn/scikit-learn/issues/21755 */display: inline-block !important;position: relative;}#sk-container-id-3 div.sk-text-repr-fallback {display: none;}</style><div id=\"sk-container-id-3\" class=\"sk-top-container\"><div class=\"sk-text-repr-fallback\"><pre>RandomForestClassifier(criterion=&#x27;entropy&#x27;, n_estimators=1000, n_jobs=-1,\n",
              "                       random_state=42)</pre><b>In a Jupyter environment, please rerun this cell to show the HTML representation or trust the notebook. <br />On GitHub, the HTML representation is unable to render, please try loading this page with nbviewer.org.</b></div><div class=\"sk-container\" hidden><div class=\"sk-item\"><div class=\"sk-estimator sk-toggleable\"><input class=\"sk-toggleable__control sk-hidden--visually\" id=\"sk-estimator-id-3\" type=\"checkbox\" checked><label for=\"sk-estimator-id-3\" class=\"sk-toggleable__label sk-toggleable__label-arrow\">RandomForestClassifier</label><div class=\"sk-toggleable__content\"><pre>RandomForestClassifier(criterion=&#x27;entropy&#x27;, n_estimators=1000, n_jobs=-1,\n",
              "                       random_state=42)</pre></div></div></div></div></div>"
            ],
            "text/plain": [
              "RandomForestClassifier(criterion='entropy', n_estimators=1000, n_jobs=-1,\n",
              "                       random_state=42)"
            ]
          },
          "execution_count": 23,
          "metadata": {},
          "output_type": "execute_result"
        }
      ],
      "source": [
        "# Treinando o Random Forest\n",
        "model_rf = RandomForestClassifier(n_estimators=1000,\n",
        "                                  random_state=42,\n",
        "                                  criterion='entropy',\n",
        "                                  n_jobs=-1)\n",
        "model_rf.fit(X_train, y_train)"
      ]
    },
    {
      "cell_type": "code",
      "execution_count": null,
      "metadata": {
        "colab": {
          "base_uri": "https://localhost:8080/"
        },
        "id": "M4gTptdbBijn",
        "outputId": "1668b0be-358c-4ae5-c850-abd03309c4ab"
      },
      "outputs": [
        {
          "name": "stdout",
          "output_type": "stream",
          "text": [
            "Acurácia: 0.24222222222222223\n",
            "              precision    recall  f1-score   support\n",
            "\n",
            " Documentary       0.28      0.31      0.30       604\n",
            "       Crime       0.26      0.20      0.23       610\n",
            "      Action       0.26      0.50      0.35       613\n",
            "     Romance       0.17      0.18      0.17       567\n",
            "      Comedy       0.21      0.15      0.18       597\n",
            "       Drama       0.22      0.10      0.14       609\n",
            "\n",
            "    accuracy                           0.24      3600\n",
            "   macro avg       0.24      0.24      0.23      3600\n",
            "weighted avg       0.24      0.24      0.23      3600\n",
            "\n"
          ]
        }
      ],
      "source": [
        "# Prevendo e avaliando\n",
        "y_pred = model_rf.predict(X_test)\n",
        "print(f'Acurácia: {accuracy_score(y_test, y_pred)}')\n",
        "print(classification_report(y_test, y_pred, target_names=selected_genres))"
      ]
    },
    {
      "cell_type": "code",
      "execution_count": null,
      "metadata": {
        "colab": {
          "base_uri": "https://localhost:8080/",
          "height": 467
        },
        "id": "lTbuilDMJaek",
        "outputId": "ea73cba4-00d5-40f9-9ba9-0bd725dc5e42"
      },
      "outputs": [
        {
          "data": {
            "text/plain": [
              "<sklearn.metrics._plot.confusion_matrix.ConfusionMatrixDisplay at 0x7cd12bd8a170>"
            ]
          },
          "execution_count": 25,
          "metadata": {},
          "output_type": "execute_result"
        },
        {
          "data": {
            "image/png": "[encoded data removed]",
            "text/plain": [
              "<Figure size 640x480 with 2 Axes>"
            ]
          },
          "metadata": {},
          "output_type": "display_data"
        }
      ],
      "source": [
        "# Matriz de confusão\n",
        "cm = confusion_matrix(y_test, y_pred, labels=model_rf.classes_)\n",
        "disp = ConfusionMatrixDisplay(confusion_matrix=cm, display_labels=selected_genres)\n",
        "disp.plot()"
      ]
    },
    {
      "cell_type": "markdown",
      "metadata": {
        "id": "NxiMaKLABkma"
      },
      "source": [
        "# Conclusão\n",
        "Pelo menos para o dataset escolhido e as imagens utilizadas, a conclusão é que não é possível inferir o gênero de um filme apenas pelo pôster dele. A esperança é que certos filmes tivessem características em comum, por exemplo: filmes de romance teriam duas pessoas juntas e filmes de crime teriam alguma arma e cores mais escuras. Acreito que o problema é que (obviamente) isso não é uma regra, além disso há um fator temporal a ser considerado também, um pôster de um filme de Drama nos dias de hoje segue os mesmos princípios de design de 20/30/40 anos atrás? No final, os modelos utilizados performaram abaixo do esperado e como conclusão, não seria possível prever o gênero de um filme."
      ]
    }
  ],
  "metadata": {
    "accelerator": "TPU",
    "colab": {
      "gpuType": "V28",
      "provenance": []
    },
    "kernelspec": {
      "display_name": "Python 3",
      "name": "python3"
    },
    "language_info": {
      "name": "python"
    }
  },
  "nbformat": 4,
  "nbformat_minor": 0
}