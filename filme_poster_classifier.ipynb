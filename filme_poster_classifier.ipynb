{
  "cells": [
    {
      "cell_type": "markdown",
      "metadata": {
        "id": "view-in-github",
        "colab_type": "text"
      },
      "source": [
        "<a href=\"https://colab.research.google.com/github/vuvu43/Film-Poster-Classifier/blob/main/filme_poster_classifier.ipynb\" target=\"_parent\"><img src=\"https://colab.research.google.com/assets/colab-badge.svg\" alt=\"Open In Colab\"/></a>"
      ]
    },
    {
      "cell_type": "code",
      "execution_count": null,
      "metadata": {
        "id": "CVFhuUbj5ryK"
      },
      "outputs": [],
      "source": [
        "#imports utilizados\n",
        "import numpy as np #algebra linear\n",
        "import pandas as pd #data processing, CSV file I/O (e.g. pd.read_csv)\n",
        "import cv2 as cv #manipulação de imagem\n",
        "import requests #baixar iamgens\n",
        "import matplotlib.pyplot as plt\n",
        "import os\n",
        "import glob\n",
        "\n",
        "# paths importantes através do código\n",
        "path_to_image_dir = \"/content/MoviePoster5k\"\n",
        "if not os.path.exists(path_to_image_dir):\n",
        "    print(\"Novo diretório adicionado\")\n",
        "    os.makedirs(path_to_image_dir)\n",
        "\n",
        "path_to_images = \"/content/MoviePoster5k/*.jpg\"\n",
        "path_to_csv = \"/content/MovieGenre.csv\""
      ]
    },
    {
      "cell_type": "markdown",
      "metadata": {
        "id": "Np4vIAf75ryP"
      },
      "source": [
        "# Trabalho Final - Introdução ao Aprendizado de Máquina\n",
        "\n",
        "É possível descobrir o gênero de um filme apenas pelo seu pôster? Considerando apenas pela memória, a \"vibe\" de um filme costuma ser retratada pelo seu pôster, aqui vamos tentar formalizar isso e tentar treinar modelos de classificação para checar se tais modelos são capazes de fazer isso também\n",
        "\n",
        "Para esse trabalho, o dataset escolhido é constituído de 1 arquivo CSV e uma pasta com os pôsteres dos filmes, o arquivo CSV é bem simples, com apenas 6 colunas, então vamos observar quais informações podem ser tiradas dele primeiro.\n"
      ]
    },
    {
      "cell_type": "markdown",
      "metadata": {
        "id": "JneF6RV3CgTz"
      },
      "source": [
        "# Tratando Dados Parte 1\n",
        "\n",
        "A primeira parte do tratamento de dados consistirá basicamente em manipular o dataset para tirar informações que serão relevantes mais tarde na hora da construção dos modelos\n"
      ]
    },
    {
      "cell_type": "code",
      "execution_count": null,
      "metadata": {
        "colab": {
          "base_uri": "https://localhost:8080/",
          "height": 310
        },
        "id": "uyqMqwuC5ryR",
        "outputId": "88f438e4-99b6-4813-9d9f-9eeffe59167c"
      },
      "outputs": [
        {
          "output_type": "execute_result",
          "data": {
            "text/plain": [
              "   imdbId                           Imdb Link  \\\n",
              "0  114709  http://www.imdb.com/title/tt114709   \n",
              "1  113497  http://www.imdb.com/title/tt113497   \n",
              "2  113228  http://www.imdb.com/title/tt113228   \n",
              "3  114885  http://www.imdb.com/title/tt114885   \n",
              "4  113041  http://www.imdb.com/title/tt113041   \n",
              "\n",
              "                                Title  IMDB Score                       Genre  \\\n",
              "0                    Toy Story (1995)         8.3  Animation|Adventure|Comedy   \n",
              "1                      Jumanji (1995)         6.9     Action|Adventure|Family   \n",
              "2             Grumpier Old Men (1995)         6.6              Comedy|Romance   \n",
              "3            Waiting to Exhale (1995)         5.7        Comedy|Drama|Romance   \n",
              "4  Father of the Bride Part II (1995)         5.9       Comedy|Family|Romance   \n",
              "\n",
              "                                              Poster  \n",
              "0  https://images-na.ssl-images-amazon.com/images...  \n",
              "1  https://images-na.ssl-images-amazon.com/images...  \n",
              "2  https://images-na.ssl-images-amazon.com/images...  \n",
              "3  https://images-na.ssl-images-amazon.com/images...  \n",
              "4  https://images-na.ssl-images-amazon.com/images...  "
            ],
            "text/html": [
              "\n",
              "  <div id=\"df-2c1eb37a-9bb6-49f1-8c3f-f0af5469d641\" class=\"colab-df-container\">\n",
              "    <div>\n",
              "<style scoped>\n",
              "    .dataframe tbody tr th:only-of-type {\n",
              "        vertical-align: middle;\n",
              "    }\n",
              "\n",
              "    .dataframe tbody tr th {\n",
              "        vertical-align: top;\n",
              "    }\n",
              "\n",
              "    .dataframe thead th {\n",
              "        text-align: right;\n",
              "    }\n",
              "</style>\n",
              "<table border=\"1\" class=\"dataframe\">\n",
              "  <thead>\n",
              "    <tr style=\"text-align: right;\">\n",
              "      <th></th>\n",
              "      <th>imdbId</th>\n",
              "      <th>Imdb Link</th>\n",
              "      <th>Title</th>\n",
              "      <th>IMDB Score</th>\n",
              "      <th>Genre</th>\n",
              "      <th>Poster</th>\n",
              "    </tr>\n",
              "  </thead>\n",
              "  <tbody>\n",
              "    <tr>\n",
              "      <th>0</th>\n",
              "      <td>114709</td>\n",
              "      <td>http://www.imdb.com/title/tt114709</td>\n",
              "      <td>Toy Story (1995)</td>\n",
              "      <td>8.3</td>\n",
              "      <td>Animation|Adventure|Comedy</td>\n",
              "      <td>https://images-na.ssl-images-amazon.com/images...</td>\n",
              "    </tr>\n",
              "    <tr>\n",
              "      <th>1</th>\n",
              "      <td>113497</td>\n",
              "      <td>http://www.imdb.com/title/tt113497</td>\n",
              "      <td>Jumanji (1995)</td>\n",
              "      <td>6.9</td>\n",
              "      <td>Action|Adventure|Family</td>\n",
              "      <td>https://images-na.ssl-images-amazon.com/images...</td>\n",
              "    </tr>\n",
              "    <tr>\n",
              "      <th>2</th>\n",
              "      <td>113228</td>\n",
              "      <td>http://www.imdb.com/title/tt113228</td>\n",
              "      <td>Grumpier Old Men (1995)</td>\n",
              "      <td>6.6</td>\n",
              "      <td>Comedy|Romance</td>\n",
              "      <td>https://images-na.ssl-images-amazon.com/images...</td>\n",
              "    </tr>\n",
              "    <tr>\n",
              "      <th>3</th>\n",
              "      <td>114885</td>\n",
              "      <td>http://www.imdb.com/title/tt114885</td>\n",
              "      <td>Waiting to Exhale (1995)</td>\n",
              "      <td>5.7</td>\n",
              "      <td>Comedy|Drama|Romance</td>\n",
              "      <td>https://images-na.ssl-images-amazon.com/images...</td>\n",
              "    </tr>\n",
              "    <tr>\n",
              "      <th>4</th>\n",
              "      <td>113041</td>\n",
              "      <td>http://www.imdb.com/title/tt113041</td>\n",
              "      <td>Father of the Bride Part II (1995)</td>\n",
              "      <td>5.9</td>\n",
              "      <td>Comedy|Family|Romance</td>\n",
              "      <td>https://images-na.ssl-images-amazon.com/images...</td>\n",
              "    </tr>\n",
              "  </tbody>\n",
              "</table>\n",
              "</div>\n",
              "    <div class=\"colab-df-buttons\">\n",
              "\n",
              "  <div class=\"colab-df-container\">\n",
              "    <button class=\"colab-df-convert\" onclick=\"convertToInteractive('df-2c1eb37a-9bb6-49f1-8c3f-f0af5469d641')\"\n",
              "            title=\"Convert this dataframe to an interactive table.\"\n",
              "            style=\"display:none;\">\n",
              "\n",
              "  <svg xmlns=\"http://www.w3.org/2000/svg\" height=\"24px\" viewBox=\"0 -960 960 960\">\n",
              "    <path d=\"M120-120v-720h720v720H120Zm60-500h600v-160H180v160Zm220 220h160v-160H400v160Zm0 220h160v-160H400v160ZM180-400h160v-160H180v160Zm440 0h160v-160H620v160ZM180-180h160v-160H180v160Zm440 0h160v-160H620v160Z\"/>\n",
              "  </svg>\n",
              "    </button>\n",
              "\n",
              "  <style>\n",
              "    .colab-df-container {\n",
              "      display:flex;\n",
              "      gap: 12px;\n",
              "    }\n",
              "\n",
              "    .colab-df-convert {\n",
              "      background-color: #E8F0FE;\n",
              "      border: none;\n",
              "      border-radius: 50%;\n",
              "      cursor: pointer;\n",
              "      display: none;\n",
              "      fill: #1967D2;\n",
              "      height: 32px;\n",
              "      padding: 0 0 0 0;\n",
              "      width: 32px;\n",
              "    }\n",
              "\n",
              "    .colab-df-convert:hover {\n",
              "      background-color: #E2EBFA;\n",
              "      box-shadow: 0px 1px 2px rgba(60, 64, 67, 0.3), 0px 1px 3px 1px rgba(60, 64, 67, 0.15);\n",
              "      fill: #174EA6;\n",
              "    }\n",
              "\n",
              "    .colab-df-buttons div {\n",
              "      margin-bottom: 4px;\n",
              "    }\n",
              "\n",
              "    [theme=dark] .colab-df-convert {\n",
              "      background-color: #3B4455;\n",
              "      fill: #D2E3FC;\n",
              "    }\n",
              "\n",
              "    [theme=dark] .colab-df-convert:hover {\n",
              "      background-color: #434B5C;\n",
              "      box-shadow: 0px 1px 3px 1px rgba(0, 0, 0, 0.15);\n",
              "      filter: drop-shadow(0px 1px 2px rgba(0, 0, 0, 0.3));\n",
              "      fill: #FFFFFF;\n",
              "    }\n",
              "  </style>\n",
              "\n",
              "    <script>\n",
              "      const buttonEl =\n",
              "        document.querySelector('#df-2c1eb37a-9bb6-49f1-8c3f-f0af5469d641 button.colab-df-convert');\n",
              "      buttonEl.style.display =\n",
              "        google.colab.kernel.accessAllowed ? 'block' : 'none';\n",
              "\n",
              "      async function convertToInteractive(key) {\n",
              "        const element = document.querySelector('#df-2c1eb37a-9bb6-49f1-8c3f-f0af5469d641');\n",
              "        const dataTable =\n",
              "          await google.colab.kernel.invokeFunction('convertToInteractive',\n",
              "                                                    [key], {});\n",
              "        if (!dataTable) return;\n",
              "\n",
              "        const docLinkHtml = 'Like what you see? Visit the ' +\n",
              "          '<a target=\"_blank\" href=https://colab.research.google.com/notebooks/data_table.ipynb>data table notebook</a>'\n",
              "          + ' to learn more about interactive tables.';\n",
              "        element.innerHTML = '';\n",
              "        dataTable['output_type'] = 'display_data';\n",
              "        await google.colab.output.renderOutput(dataTable, element);\n",
              "        const docLink = document.createElement('div');\n",
              "        docLink.innerHTML = docLinkHtml;\n",
              "        element.appendChild(docLink);\n",
              "      }\n",
              "    </script>\n",
              "  </div>\n",
              "\n",
              "\n",
              "<div id=\"df-10190936-31f2-48ee-a3fe-5fb85a8e62ee\">\n",
              "  <button class=\"colab-df-quickchart\" onclick=\"quickchart('df-10190936-31f2-48ee-a3fe-5fb85a8e62ee')\"\n",
              "            title=\"Suggest charts\"\n",
              "            style=\"display:none;\">\n",
              "\n",
              "<svg xmlns=\"http://www.w3.org/2000/svg\" height=\"24px\"viewBox=\"0 0 24 24\"\n",
              "     width=\"24px\">\n",
              "    <g>\n",
              "        <path d=\"M19 3H5c-1.1 0-2 .9-2 2v14c0 1.1.9 2 2 2h14c1.1 0 2-.9 2-2V5c0-1.1-.9-2-2-2zM9 17H7v-7h2v7zm4 0h-2V7h2v10zm4 0h-2v-4h2v4z\"/>\n",
              "    </g>\n",
              "</svg>\n",
              "  </button>\n",
              "\n",
              "<style>\n",
              "  .colab-df-quickchart {\n",
              "      --bg-color: #E8F0FE;\n",
              "      --fill-color: #1967D2;\n",
              "      --hover-bg-color: #E2EBFA;\n",
              "      --hover-fill-color: #174EA6;\n",
              "      --disabled-fill-color: #AAA;\n",
              "      --disabled-bg-color: #DDD;\n",
              "  }\n",
              "\n",
              "  [theme=dark] .colab-df-quickchart {\n",
              "      --bg-color: #3B4455;\n",
              "      --fill-color: #D2E3FC;\n",
              "      --hover-bg-color: #434B5C;\n",
              "      --hover-fill-color: #FFFFFF;\n",
              "      --disabled-bg-color: #3B4455;\n",
              "      --disabled-fill-color: #666;\n",
              "  }\n",
              "\n",
              "  .colab-df-quickchart {\n",
              "    background-color: var(--bg-color);\n",
              "    border: none;\n",
              "    border-radius: 50%;\n",
              "    cursor: pointer;\n",
              "    display: none;\n",
              "    fill: var(--fill-color);\n",
              "    height: 32px;\n",
              "    padding: 0;\n",
              "    width: 32px;\n",
              "  }\n",
              "\n",
              "  .colab-df-quickchart:hover {\n",
              "    background-color: var(--hover-bg-color);\n",
              "    box-shadow: 0 1px 2px rgba(60, 64, 67, 0.3), 0 1px 3px 1px rgba(60, 64, 67, 0.15);\n",
              "    fill: var(--button-hover-fill-color);\n",
              "  }\n",
              "\n",
              "  .colab-df-quickchart-complete:disabled,\n",
              "  .colab-df-quickchart-complete:disabled:hover {\n",
              "    background-color: var(--disabled-bg-color);\n",
              "    fill: var(--disabled-fill-color);\n",
              "    box-shadow: none;\n",
              "  }\n",
              "\n",
              "  .colab-df-spinner {\n",
              "    border: 2px solid var(--fill-color);\n",
              "    border-color: transparent;\n",
              "    border-bottom-color: var(--fill-color);\n",
              "    animation:\n",
              "      spin 1s steps(1) infinite;\n",
              "  }\n",
              "\n",
              "  @keyframes spin {\n",
              "    0% {\n",
              "      border-color: transparent;\n",
              "      border-bottom-color: var(--fill-color);\n",
              "      border-left-color: var(--fill-color);\n",
              "    }\n",
              "    20% {\n",
              "      border-color: transparent;\n",
              "      border-left-color: var(--fill-color);\n",
              "      border-top-color: var(--fill-color);\n",
              "    }\n",
              "    30% {\n",
              "      border-color: transparent;\n",
              "      border-left-color: var(--fill-color);\n",
              "      border-top-color: var(--fill-color);\n",
              "      border-right-color: var(--fill-color);\n",
              "    }\n",
              "    40% {\n",
              "      border-color: transparent;\n",
              "      border-right-color: var(--fill-color);\n",
              "      border-top-color: var(--fill-color);\n",
              "    }\n",
              "    60% {\n",
              "      border-color: transparent;\n",
              "      border-right-color: var(--fill-color);\n",
              "    }\n",
              "    80% {\n",
              "      border-color: transparent;\n",
              "      border-right-color: var(--fill-color);\n",
              "      border-bottom-color: var(--fill-color);\n",
              "    }\n",
              "    90% {\n",
              "      border-color: transparent;\n",
              "      border-bottom-color: var(--fill-color);\n",
              "    }\n",
              "  }\n",
              "</style>\n",
              "\n",
              "  <script>\n",
              "    async function quickchart(key) {\n",
              "      const quickchartButtonEl =\n",
              "        document.querySelector('#' + key + ' button');\n",
              "      quickchartButtonEl.disabled = true;  // To prevent multiple clicks.\n",
              "      quickchartButtonEl.classList.add('colab-df-spinner');\n",
              "      try {\n",
              "        const charts = await google.colab.kernel.invokeFunction(\n",
              "            'suggestCharts', [key], {});\n",
              "      } catch (error) {\n",
              "        console.error('Error during call to suggestCharts:', error);\n",
              "      }\n",
              "      quickchartButtonEl.classList.remove('colab-df-spinner');\n",
              "      quickchartButtonEl.classList.add('colab-df-quickchart-complete');\n",
              "    }\n",
              "    (() => {\n",
              "      let quickchartButtonEl =\n",
              "        document.querySelector('#df-10190936-31f2-48ee-a3fe-5fb85a8e62ee button');\n",
              "      quickchartButtonEl.style.display =\n",
              "        google.colab.kernel.accessAllowed ? 'block' : 'none';\n",
              "    })();\n",
              "  </script>\n",
              "</div>\n",
              "\n",
              "    </div>\n",
              "  </div>\n"
            ],
            "application/vnd.google.colaboratory.intrinsic+json": {
              "type": "dataframe",
              "variable_name": "df",
              "summary": "{\n  \"name\": \"df\",\n  \"rows\": 40108,\n  \"fields\": [\n    {\n      \"column\": \"imdbId\",\n      \"properties\": {\n        \"dtype\": \"number\",\n        \"std\": 1151825,\n        \"min\": 3,\n        \"max\": 6098922,\n        \"num_unique_values\": 39515,\n        \"samples\": [\n          66969,\n          383574,\n          1085362\n        ],\n        \"semantic_type\": \"\",\n        \"description\": \"\"\n      }\n    },\n    {\n      \"column\": \"Imdb Link\",\n      \"properties\": {\n        \"dtype\": \"string\",\n        \"num_unique_values\": 39515,\n        \"samples\": [\n          \"http://www.imdb.com/title/tt66969\",\n          \"http://www.imdb.com/title/tt383574\",\n          \"http://www.imdb.com/title/tt1085362\"\n        ],\n        \"semantic_type\": \"\",\n        \"description\": \"\"\n      }\n    },\n    {\n      \"column\": \"Title\",\n      \"properties\": {\n        \"dtype\": \"string\",\n        \"num_unique_values\": 39470,\n        \"samples\": [\n          \"Out of Sight (1998)\",\n          \"Autumn in the Vineyard (2016)\",\n          \"The Millionairess (1960)\"\n        ],\n        \"semantic_type\": \"\",\n        \"description\": \"\"\n      }\n    },\n    {\n      \"column\": \"IMDB Score\",\n      \"properties\": {\n        \"dtype\": \"number\",\n        \"std\": 1.1416786430125447,\n        \"min\": 1.2,\n        \"max\": 9.5,\n        \"num_unique_values\": 84,\n        \"samples\": [\n          1.6,\n          8.3,\n          2.8\n        ],\n        \"semantic_type\": \"\",\n        \"description\": \"\"\n      }\n    },\n    {\n      \"column\": \"Genre\",\n      \"properties\": {\n        \"dtype\": \"category\",\n        \"num_unique_values\": 1307,\n        \"samples\": [\n          \"Action|Family\",\n          \"Comedy|War|Western\",\n          \"Fantasy|Drama|Adventure\"\n        ],\n        \"semantic_type\": \"\",\n        \"description\": \"\"\n      }\n    },\n    {\n      \"column\": \"Poster\",\n      \"properties\": {\n        \"dtype\": \"string\",\n        \"num_unique_values\": 38654,\n        \"samples\": [\n          \"https://images-na.ssl-images-amazon.com/images/M/MV5BMjEwNjE4OTE4N15BMl5BanBnXkFtZTcwMzEzNjAyMQ@@._V1_UX182_CR0,0,182,268_AL_.jpg\",\n          \"https://images-na.ssl-images-amazon.com/images/M/MV5BMjE1NjAyODgyMV5BMl5BanBnXkFtZTYwOTM1MzQ5._V1_UX182_CR0,0,182,268_AL_.jpg\",\n          \"https://images-na.ssl-images-amazon.com/images/M/MV5BMjE0NjI4MzMyM15BMl5BanBnXkFtZTcwMDk1ODI4MQ@@._V1_UY268_CR1,0,182,268_AL_.jpg\"\n        ],\n        \"semantic_type\": \"\",\n        \"description\": \"\"\n      }\n    }\n  ]\n}"
            }
          },
          "metadata": {},
          "execution_count": 5
        }
      ],
      "source": [
        "# Primeiramente, vamos carregar o arquivo csv e ver um pouco de como é a cara dele\n",
        "df = pd.read_csv(path_to_csv, encoding=\"ISO-8859-1\")\n",
        "df.head()"
      ]
    },
    {
      "cell_type": "code",
      "execution_count": null,
      "metadata": {
        "colab": {
          "base_uri": "https://localhost:8080/"
        },
        "id": "Afg9srqo5ryX",
        "outputId": "ef720577-3e4c-415b-a92e-71b5ec3a8b5b"
      },
      "outputs": [
        {
          "output_type": "stream",
          "name": "stdout",
          "text": [
            "28\n"
          ]
        },
        {
          "output_type": "execute_result",
          "data": {
            "text/plain": [
              "['News',\n",
              " 'Western',\n",
              " 'Adult',\n",
              " 'Romance',\n",
              " 'Mystery',\n",
              " 'Short',\n",
              " 'Talk-Show',\n",
              " 'Sport',\n",
              " 'Comedy',\n",
              " 'History',\n",
              " 'Game-Show',\n",
              " 'Biography',\n",
              " 'Drama',\n",
              " 'Thriller',\n",
              " 'Animation',\n",
              " 'Crime',\n",
              " 'Fantasy',\n",
              " 'War',\n",
              " 'Sci-Fi',\n",
              " 'Film-Noir',\n",
              " 'Documentary',\n",
              " 'Music',\n",
              " 'Musical',\n",
              " 'Family',\n",
              " 'Reality-TV',\n",
              " 'Horror',\n",
              " 'Action',\n",
              " 'Adventure']"
            ]
          },
          "metadata": {},
          "execution_count": 6
        }
      ],
      "source": [
        "#  A coluna de gêneros é com certeza muito importante para o objetivo desse trabalho\n",
        "# vamos tentar extrair em quais gêneros os filmes foram classificados no total\n",
        "\n",
        "def extract_genres(df:pd.DataFrame):\n",
        "    genres_set = set()\n",
        "\n",
        "    for genre in df[\"Genre\"]:\n",
        "        #computar apenas se for realmente string, caso contrário ignora\n",
        "        if isinstance(genre, str):\n",
        "            splitted = genre.split(\"|\")\n",
        "            genres_set.update(splitted)\n",
        "\n",
        "    return list(genres_set)\n",
        "\n",
        "#dropando linhas que possuam um pelo menos 1 valor NaN\n",
        "df = df.dropna()\n",
        "\n",
        "#extraindo gêneros...\n",
        "genres = extract_genres(df)\n",
        "print(len(genres))\n",
        "genres"
      ]
    },
    {
      "cell_type": "markdown",
      "metadata": {
        "id": "Geuf872J5ryY"
      },
      "source": [
        "São 28 gêneros no total, pessoalmente, alguns desses não me interessam e portanto e não acho que é sejam interessante de se fazer alguma análise então irei retirar alguns\n",
        "e deixarei apenas os seguinte selecionados\n",
        "\n",
        "*  Action\n",
        "*  Comedy\n",
        "*  Musical\n",
        "*  Sci-fi\n",
        "*  Drama\n",
        "*  Documentary\n",
        "*  Horror\n",
        "*  Romance\n",
        "*  Crime\n"
      ]
    },
    {
      "cell_type": "code",
      "execution_count": null,
      "metadata": {
        "colab": {
          "base_uri": "https://localhost:8080/"
        },
        "id": "xm-Z3EE55rya",
        "outputId": "5c75a669-33dc-4e23-d969-761286db21ba"
      },
      "outputs": [
        {
          "output_type": "stream",
          "name": "stdout",
          "text": [
            "No total, os filmes serão classificados  em 9 gêneros.\n"
          ]
        }
      ],
      "source": [
        "selected_genres = [\"Action\", \"Comedy\", \"Musical\", \"Sci-Fi\", \"Drama\", \"Documentary\", \"Horror\", \"Romance\", \"Crime\"]\n",
        "print(f\"No total, os filmes serão classificados  em {len(selected_genres)} gêneros.\")"
      ]
    },
    {
      "cell_type": "code",
      "execution_count": null,
      "metadata": {
        "colab": {
          "base_uri": "https://localhost:8080/"
        },
        "id": "c4b0MOxvHceh",
        "outputId": "bc23a8f6-d54b-4ce8-c656-2cd62b0bdc5a"
      },
      "outputs": [
        {
          "output_type": "execute_result",
          "data": {
            "text/plain": [
              "0         Comedy\n",
              "1         Action\n",
              "2         Comedy\n",
              "3        Romance\n",
              "4         Comedy\n",
              "          ...   \n",
              "40102     Action\n",
              "40103      Drama\n",
              "40104     Comedy\n",
              "40105     Horror\n",
              "40106     Comedy\n",
              "Name: Genre, Length: 37251, dtype: object"
            ]
          },
          "metadata": {},
          "execution_count": 8
        }
      ],
      "source": [
        "import random\n",
        "\n",
        "# Por motivos de simplificação, também quero que cada filme seja\n",
        "# associado a apenas uma classe, e é justamente isso que faço aqui\n",
        "\n",
        "def choose_random_genre(genre_str):\n",
        "    genre_list = genre_str.split('|')\n",
        "\n",
        "    # Filtra os gêneros dos filmes que estão na lista dos selecionados\n",
        "    valid_genres = [genre for genre in genre_list if genre in selected_genres]\n",
        "\n",
        "    # Se existir pelo menos um gênero válido, escolhe um aleatoriamente\n",
        "    if valid_genres:\n",
        "        return random.choice(valid_genres)\n",
        "    else:\n",
        "        # retorna None para depois a linha ser dropada\n",
        "        return None\n",
        "\n",
        "# aplica a função em toda a coluna\n",
        "df[\"Genre\"] = df[\"Genre\"].apply(choose_random_genre)\n",
        "df = df.dropna()\n",
        "\n",
        "#teste\n",
        "for x in df[\"Genre\"]:\n",
        "    if x not in selected_genres:\n",
        "        print(\"Algo deu errado...\", x)\n",
        "\n",
        "df[\"Genre\"]"
      ]
    },
    {
      "cell_type": "markdown",
      "metadata": {
        "id": "IsikKp6U5ryd"
      },
      "source": [
        "Agora com os gêneros escolhidos, podemos passar para a segunda parte, que consistirá em checar a pasta com pôsteres. Acontece que a pasta disponibilizada não possui todos os filmes listados no arquivo csv, e não só isso, mas a maioria dos filmes lá são bem antigos. Então, para tentar remover o viés do tempo, irei desconsiderar as imagens disponibilizadas e baixar novas, que irão fazer o conjunto de treino+teste, no total irei tentar baixar cerca de 10.000 imagens."
      ]
    },
    {
      "cell_type": "code",
      "execution_count": null,
      "metadata": {
        "colab": {
          "base_uri": "https://localhost:8080/"
        },
        "id": "SRbYb6DnAna5",
        "outputId": "c55d7318-36e5-465c-a181-5c28344a9570"
      },
      "outputs": [
        {
          "name": "stdout",
          "output_type": "stream",
          "text": [
            "O diretório /content/MoviePoster5k foi deletado com sucesso.\n"
          ]
        }
      ],
      "source": [
        "# Caso aconteceça algum erro na hora de fazer download uma opção\n",
        "# seria deletar as imagens já deletadas e baixá-las de novo\n",
        "import shutil\n",
        "\n",
        "\n",
        "def delete_directory(directory_path):\n",
        "    \"\"\"\n",
        "    Deleta o diretório inteiro e todo o seu conteúdo.\n",
        "\n",
        "    :param directory_path: Caminho do diretório a ser deletado.\n",
        "    \"\"\"\n",
        "    if os.path.exists(directory_path):\n",
        "        shutil.rmtree(directory_path)\n",
        "        print(f\"O diretório {directory_path} foi deletado com sucesso.\")\n",
        "    else:\n",
        "        print(f\"O diretório {directory_path} não existe.\")\n",
        "\n",
        "# Exemplo de uso\n",
        "directory_path = os.path.expanduser(\"/content/MoviePoster5k\")\n",
        "\n",
        "# Deletar o diretório\n",
        "delete_directory(directory_path)\n"
      ]
    },
    {
      "cell_type": "code",
      "execution_count": null,
      "metadata": {
        "id": "zLVpQSyK5ryf"
      },
      "outputs": [],
      "source": [
        "#Vamos tentar baixar deixar nosso conjunto de treino+teste, por volta de 10.000\n",
        "\n",
        "def download_images(df:pd.DataFrame, save_directory:str, downloads:int, age:int) -> pd.DataFrame:\n",
        "    \"\"\"\n",
        "    Faz o download de imagens a partir dos links na coluna 'Poster' do DataFrame\n",
        "    e salva no diretório especificado,verificando se a imagem já está baixada antes\n",
        "    de fazer o download. Ao mesmo tempo que as imagens forem baixadas, o df será\n",
        "    atualizado para conter apenas as imagens baixadas.\n",
        "\n",
        "    Entrada:\n",
        "        - pd.DataFrame df: DataFrame contendo uma coluna 'Poster' com links para as imagens.\n",
        "        - str save_directory: caminho do diretório onde as imagens serão salvas.\n",
        "        - int downloads: quantidade total de filmes que devem ser baixados\n",
        "        - int age: filmes baixados terão que ser feitos a partir de 'age'\n",
        "\n",
        "    Saída:\n",
        "        -pd.DataFrame: DataFrame atualizado com os filmes de interesse\n",
        "    \"\"\"\n",
        "\n",
        "    downloaded = 0 #quantidade de downloads bem sucedidos\n",
        "    downloaded_images_data = [] #lista para guardar informacoes para o novo df\n",
        "\n",
        "    # itera sobre as linhas do df\n",
        "    for _, row in df.iterrows():\n",
        "        if downloaded > downloads:\n",
        "            break\n",
        "\n",
        "        if downloaded%1000 == 0:\n",
        "            print(\"Downloaded:\", downloaded)\n",
        "\n",
        "        film_age = row[\"Title\"].replace(\"(\", \"\").replace(\")\", \"\")[-4:]\n",
        "        try: #se o filme não houver idade declarada dará um erro\n",
        "        #se a idade do filme for menor que a imposta -> ignora filme\n",
        "            if int(film_age) < age:\n",
        "                continue\n",
        "        except: #se ocorrer um erro -> ignore o filme\n",
        "            continue\n",
        "\n",
        "\n",
        "        image_url = row['Poster']\n",
        "        image_id = row['imdbId']\n",
        "        file_path = os.path.join(save_directory, f\"{image_id}.jpg\")\n",
        "\n",
        "        #verifica se a imagem já está baixada\n",
        "        if os.path.exists(file_path):\n",
        "            downloaded_images_data.append(row) #guarda informações da imagem já baixada\n",
        "            downloaded += 1\n",
        "            continue\n",
        "        else:\n",
        "            try:\n",
        "                response = requests.get(image_url, stream=True)\n",
        "\n",
        "                #se a imagem está no link disponibilizado\n",
        "                if response.status_code == 200:\n",
        "                    downloaded_images_data.append(row)\n",
        "                    downloaded += 1\n",
        "\n",
        "                    #salva a imagem no diretório especificado\n",
        "                    with open(file_path, 'wb') as file:\n",
        "                        for chunk in response.iter_content(1024):\n",
        "                            file.write(chunk)\n",
        "                else:\n",
        "                  continue\n",
        "\n",
        "            #caso aconteça algum erro\n",
        "            except Exception as e:\n",
        "                continue\n",
        "    print(\"Imagens baixadas com sucesso\")\n",
        "    return pd.DataFrame(downloaded_images_data, columns=df.columns)"
      ]
    },
    {
      "cell_type": "code",
      "execution_count": null,
      "metadata": {
        "colab": {
          "base_uri": "https://localhost:8080/"
        },
        "id": "UHSgfBwakqgY",
        "outputId": "037b61fe-df08-4858-9b14-d4cffc5642d1"
      },
      "outputs": [
        {
          "output_type": "stream",
          "name": "stdout",
          "text": [
            "Downloaded: 0\n",
            "Downloaded: 1000\n",
            "Downloaded: 2000\n",
            "Downloaded: 3000\n",
            "Downloaded: 4000\n",
            "Downloaded: 5000\n",
            "Imagens baixadas com sucesso\n"
          ]
        }
      ],
      "source": [
        "df = download_images(df, path_to_image_dir, downloads=5_000, age=1950)"
      ]
    },
    {
      "cell_type": "code",
      "execution_count": null,
      "metadata": {
        "id": "FctZlZR7M4JU"
      },
      "outputs": [],
      "source": [
        "#Com o novo df em mãos quero guardar ele em um novo csv para praticidade\n",
        "df.to_csv(\"/content/Movies5k.csv\", index=False)"
      ]
    },
    {
      "cell_type": "markdown",
      "metadata": {
        "id": "zJqBSnGt758p"
      },
      "source": [
        "# Tratando Dados Parte 2\n",
        "Finalmente com nossas imagens em mãos podemos começar a manipular elas para que estejam próprias para uso em nossos classificadores"
      ]
    },
    {
      "cell_type": "code",
      "execution_count": null,
      "metadata": {
        "id": "9G-zQCo05ryh",
        "colab": {
          "base_uri": "https://localhost:8080/"
        },
        "outputId": "1c7f6627-76e5-4d6b-96d8-c684a5497a22"
      },
      "outputs": [
        {
          "output_type": "execute_result",
          "data": {
            "text/plain": [
              "(268, 182)"
            ]
          },
          "metadata": {},
          "execution_count": 23
        }
      ],
      "source": [
        "# A intuição por trás de pegar os menores valores da largura e altura dentre as\n",
        "# imagens, é para que todas tenham o mesmo tamanho para poderem entrar na rede neural\n",
        "# ao mesmo tempo que perdem o mínimo de informação necessária\n",
        "\n",
        "def get_min_shapes(image_path:str) -> tuple[int, int]:\n",
        "    \"\"\"\n",
        "    Recebe caminho para as imagens e retorna os menores\n",
        "    largura e altura dentre as imagens\n",
        "\n",
        "    Entrada:\n",
        "        - str image_path: caminho para as imagens\n",
        "    Saída:\n",
        "        - tuple[int, int] (min_h, min_w): menores altura e largura encontrados\n",
        "    \"\"\"\n",
        "\n",
        "    #pega caminho para as imagens em uma lista\n",
        "    image_files = glob.glob(image_path)\n",
        "\n",
        "    #init vars\n",
        "    min_h = 10_000\n",
        "    min_w = 10_000\n",
        "\n",
        "    #iterando sobre todas as imagens\n",
        "    for image_file in image_files:\n",
        "        img = cv.imread(image_file)\n",
        "\n",
        "        h, w, _ = img.shape\n",
        "\n",
        "        #pega menor largura e altura da imagem\n",
        "        if h < min_h:\n",
        "            min_h = h\n",
        "        if w < min_w:\n",
        "            min_w = w\n",
        "\n",
        "    return (min_h, min_w)\n",
        "\n",
        "get_min_shapes(path_to_images)"
      ]
    },
    {
      "cell_type": "code",
      "execution_count": null,
      "metadata": {
        "id": "WpLLglpHDj0h",
        "colab": {
          "base_uri": "https://localhost:8080/",
          "height": 211
        },
        "outputId": "e1298e69-088e-4d45-9eae-8f93952839eb"
      },
      "outputs": [
        {
          "output_type": "error",
          "ename": "NameError",
          "evalue": "name 'path_to_images' is not defined",
          "traceback": [
            "\u001b[0;31m---------------------------------------------------------------------------\u001b[0m",
            "\u001b[0;31mNameError\u001b[0m                                 Traceback (most recent call last)",
            "\u001b[0;32m<ipython-input-6-f6f08e178175>\u001b[0m in \u001b[0;36m<cell line: 29>\u001b[0;34m()\u001b[0m\n\u001b[1;32m     27\u001b[0m \u001b[0;34m\u001b[0m\u001b[0m\n\u001b[1;32m     28\u001b[0m \u001b[0mgoal_size\u001b[0m \u001b[0;34m=\u001b[0m \u001b[0;34m(\u001b[0m\u001b[0;36m268\u001b[0m\u001b[0;34m,\u001b[0m \u001b[0;36m182\u001b[0m\u001b[0;34m)\u001b[0m \u001b[0;31m#get_min_shape(path_to_images)\u001b[0m\u001b[0;34m\u001b[0m\u001b[0;34m\u001b[0m\u001b[0m\n\u001b[0;32m---> 29\u001b[0;31m \u001b[0mresized_images\u001b[0m \u001b[0;34m=\u001b[0m \u001b[0mprepare_data\u001b[0m\u001b[0;34m(\u001b[0m\u001b[0mgoal_size\u001b[0m\u001b[0;34m,\u001b[0m \u001b[0mpath_to_images\u001b[0m\u001b[0;34m)\u001b[0m\u001b[0;34m\u001b[0m\u001b[0;34m\u001b[0m\u001b[0m\n\u001b[0m\u001b[1;32m     30\u001b[0m \u001b[0;34m\u001b[0m\u001b[0m\n\u001b[1;32m     31\u001b[0m \u001b[0;31m# por padrão, a biblioteca openCV utiliza o padrão BGR ao invés do RGB\u001b[0m\u001b[0;34m\u001b[0m\u001b[0;34m\u001b[0m\u001b[0m\n",
            "\u001b[0;31mNameError\u001b[0m: name 'path_to_images' is not defined"
          ]
        }
      ],
      "source": [
        "# Precisamos fazer um resize em todas as imagens para que\n",
        "# sejam todas do mesmo tamanho\n",
        "\n",
        "def prepare_data(goal_size:tuple[int, int], image_path:str):\n",
        "    \"\"\"\n",
        "    Faz com que todas as imagens disponíveis sejam carregadas no programa\n",
        "    e retorna um vetor com todas elas do tamaho desejado\n",
        "\n",
        "    Entrada:\n",
        "        - int h_resized: altura desejada\n",
        "        - int w_resized: largura desejado\n",
        "        - str image_path: caminho para as imagens\n",
        "    Saída:\n",
        "        - numpy.array resized_images: imagens com o tamanho correto\n",
        "                                      guardados em um vetor\n",
        "    \"\"\"\n",
        "\n",
        "    image_files = glob.glob(image_path)\n",
        "    resized_images = []\n",
        "\n",
        "    for path in image_files:\n",
        "        poster = cv.imread(path) #lê imagem\n",
        "        poster_resized = cv.resize(poster, goal_size) #redimensiona imagem\n",
        "        resized_images.append(poster_resized) #adiciona imagem numa lista\n",
        "\n",
        "    return np.array(resized_images) #retorna lista de imagens\n",
        "\n",
        "goal_size = (268, 182) #get_min_shape(path_to_images)\n",
        "resized_images = prepare_data(goal_size, path_to_images)\n",
        "\n",
        "# por padrão, a biblioteca openCV utiliza o padrão BGR ao invés do RGB\n",
        "# por isso a conversão (não será feito novamente, apenas para demonstração)\n",
        "img_ex = cv.cvtColor(resized_images[0], cv.COLOR_BGR2RGB)\n",
        "plt.imshow(img_ex)"
      ]
    },
    {
      "cell_type": "markdown",
      "metadata": {
        "id": "eZ1to52OEmMw"
      },
      "source": [
        "# Modelos de classificação\n",
        "Como foi pedido na descrição do trabalho, este projeto conssitirá de 2 classificadores, cada um deles será separado em \"Modelo 1\" e \"Modelo 2\". O primeiro modelo será uma rede neural"
      ]
    },
    {
      "cell_type": "markdown",
      "metadata": {
        "id": "Oq7zcE3SKtTM"
      },
      "source": [
        "## Modelo 1\n",
        "Como discutido acima, o primeiro modelo será uma rede neural, ela terá uma entrada de 268*182 = 48.778 (e ainda com 3 canais de cor) neurônios e uma saída de 10 neurônios"
      ]
    },
    {
      "cell_type": "code",
      "source": [],
      "metadata": {
        "colab": {
          "base_uri": "https://localhost:8080/"
        },
        "id": "RVCLh8GCkTJ9",
        "outputId": "3aa294a9-6637-49cf-a09b-1b0196ab6424"
      },
      "execution_count": null,
      "outputs": [
        {
          "output_type": "stream",
          "name": "stdout",
          "text": [
            "\u001b[31mERROR: Could not find a version that satisfies the requirement tensorflow.keras (from versions: none)\u001b[0m\u001b[31m\n",
            "\u001b[0m\u001b[31mERROR: No matching distribution found for tensorflow.keras\u001b[0m\u001b[31m\n",
            "\u001b[0m"
          ]
        }
      ]
    },
    {
      "cell_type": "code",
      "execution_count": null,
      "metadata": {
        "id": "CQ2qO3R4ElsV"
      },
      "outputs": [],
      "source": [
        "# Bibliotecas utilizadas para a rede neural\n",
        "from sklearn.model_selection import train_test_split\n",
        "from sklearn.preprocessing import MultiLabelBinarizer\n",
        "import tensorflow as tf\n",
        "from tensorflow import keras\n",
        "from keras.models import Sequential\n",
        "from keras.layers import Dense, Conv2D, MaxPooling2D, Flatten, Dropout"
      ]
    },
    {
      "cell_type": "code",
      "execution_count": null,
      "metadata": {
        "id": "DUYKd9axq2ER",
        "colab": {
          "base_uri": "https://localhost:8080/",
          "height": 193
        },
        "outputId": "6ed6c346-ea40-4200-afa3-eab1bb56d72a"
      },
      "outputs": [
        {
          "output_type": "error",
          "ename": "NameError",
          "evalue": "name 'resized_images' is not defined",
          "traceback": [
            "\u001b[0;31m---------------------------------------------------------------------------\u001b[0m",
            "\u001b[0;31mNameError\u001b[0m                                 Traceback (most recent call last)",
            "\u001b[0;32m<ipython-input-5-123d80115f8d>\u001b[0m in \u001b[0;36m<cell line: 1>\u001b[0;34m()\u001b[0m\n\u001b[0;32m----> 1\u001b[0;31m \u001b[0mresized_images\u001b[0m \u001b[0;34m=\u001b[0m \u001b[0mresized_images\u001b[0m\u001b[0;34m[\u001b[0m\u001b[0;34m:\u001b[0m\u001b[0;34m-\u001b[0m\u001b[0;36m3\u001b[0m\u001b[0;34m]\u001b[0m\u001b[0;34m\u001b[0m\u001b[0;34m\u001b[0m\u001b[0m\n\u001b[0m\u001b[1;32m      2\u001b[0m \u001b[0mprint\u001b[0m\u001b[0;34m(\u001b[0m\u001b[0mlen\u001b[0m\u001b[0;34m(\u001b[0m\u001b[0mresized_images\u001b[0m\u001b[0;34m)\u001b[0m\u001b[0;34m)\u001b[0m\u001b[0;34m\u001b[0m\u001b[0;34m\u001b[0m\u001b[0m\n\u001b[1;32m      3\u001b[0m \u001b[0mprint\u001b[0m\u001b[0;34m(\u001b[0m\u001b[0mlen\u001b[0m\u001b[0;34m(\u001b[0m\u001b[0mdf\u001b[0m\u001b[0;34m)\u001b[0m\u001b[0;34m)\u001b[0m\u001b[0;34m\u001b[0m\u001b[0;34m\u001b[0m\u001b[0m\n\u001b[1;32m      4\u001b[0m \u001b[0mdf\u001b[0m\u001b[0;34m[\u001b[0m\u001b[0;34m\"Genre\"\u001b[0m\u001b[0;34m]\u001b[0m\u001b[0;34m\u001b[0m\u001b[0;34m\u001b[0m\u001b[0m\n",
            "\u001b[0;31mNameError\u001b[0m: name 'resized_images' is not defined"
          ]
        }
      ],
      "source": [
        "resized_images = resized_images[:-3]\n",
        "print(len(resized_images))\n",
        "print(len(df))\n",
        "df[\"Genre\"]"
      ]
    },
    {
      "cell_type": "code",
      "execution_count": null,
      "metadata": {
        "id": "zeyt3301rq3x"
      },
      "outputs": [],
      "source": [
        "mlb = MultiLabelBinarizer(classes=selected_genres)\n",
        "encoded_labels = mlb.fit_transform(df['Genre'])"
      ]
    },
    {
      "cell_type": "code",
      "execution_count": null,
      "metadata": {
        "id": "UVE4YeBNG98e"
      },
      "outputs": [],
      "source": [
        "# Separando os dados em treino e teste\n",
        "X_train, X_test, y_train, y_test = train_test_split(resized_images, encoded_labels, test_size=0.2, random_state=42)\n",
        "\n",
        "# Normalizar os dados\n",
        "X_train = X_train / 255.0\n",
        "X_test = X_test / 255.0"
      ]
    },
    {
      "cell_type": "code",
      "execution_count": null,
      "metadata": {
        "id": "j8EY3KNT-5Mu"
      },
      "outputs": [],
      "source": [
        "# Construindo a rede neural convolucional\n",
        "model = Sequential()"
      ]
    },
    {
      "cell_type": "code",
      "execution_count": null,
      "metadata": {
        "id": "bL64eDgG_LLN"
      },
      "outputs": [],
      "source": [
        "# Camada de entrada (convolucional)\n",
        "model.add(Conv2D(32, (3, 3), activation=\"relu\", input_shape=(268, 182, 3)))\n",
        "model.add(MaxPooling2D((2, 2)))\n",
        "\n",
        "# Camada convolucional 1\n",
        "model.add(Conv2D(64, (3, 3), activation=\"relu\"))\n",
        "model.add(MaxPooling2D((2, 2)))\n",
        "\n",
        "# Camada convolucional 2\n",
        "model.add(Conv2D(128, (3, 3), activation=\"relu\"))\n",
        "model.add(MaxPooling2D((2, 2)))\n",
        "model.add(Flatten())\n",
        "\n",
        "# Camada escondida 1\n",
        "model.add(Dense(128, activation=\"relu\"))\n",
        "\n",
        "# Camada escondida 2\n",
        "model.add(Dense(64, activation=\"relu\"))\n",
        "model.add(Dropout(0.5))\n",
        "\n",
        "# Camada de saída\n",
        "model.add(Dense(len(mlb.classes_), activation=\"softmax\"))"
      ]
    },
    {
      "cell_type": "code",
      "execution_count": null,
      "metadata": {
        "id": "g3e48l2KAN99"
      },
      "outputs": [],
      "source": [
        "# Compilando modelo\n",
        "model.compile(optimizer=\"adam\", loss=\"binary_crossentropy\", metrics=[\"accuracy\"])"
      ]
    },
    {
      "cell_type": "code",
      "source": [
        "# Treinando o modelo\n",
        "#early_stopping = EarlyStopping(monitor='val_loss', patience=3, restore_best_weights=True)\n",
        "history = model.fit(X_train, y_train, epochs=20, validation_split=0.2, batch_size=16)"
      ],
      "metadata": {
        "colab": {
          "base_uri": "https://localhost:8080/",
          "height": 176
        },
        "id": "pAukukwuhyyV",
        "outputId": "51f0a96b-5b91-4d6e-e2c8-9de91ea33983"
      },
      "execution_count": null,
      "outputs": [
        {
          "output_type": "error",
          "ename": "NameError",
          "evalue": "name 'model' is not defined",
          "traceback": [
            "\u001b[0;31m---------------------------------------------------------------------------\u001b[0m",
            "\u001b[0;31mNameError\u001b[0m                                 Traceback (most recent call last)",
            "\u001b[0;32m<ipython-input-1-61adbfb9c8d7>\u001b[0m in \u001b[0;36m<cell line: 3>\u001b[0;34m()\u001b[0m\n\u001b[1;32m      1\u001b[0m \u001b[0;31m# Treinando o modelo\u001b[0m\u001b[0;34m\u001b[0m\u001b[0;34m\u001b[0m\u001b[0m\n\u001b[1;32m      2\u001b[0m \u001b[0;31m#early_stopping = EarlyStopping(monitor='val_loss', patience=3, restore_best_weights=True)\u001b[0m\u001b[0;34m\u001b[0m\u001b[0;34m\u001b[0m\u001b[0m\n\u001b[0;32m----> 3\u001b[0;31m \u001b[0mhistory\u001b[0m \u001b[0;34m=\u001b[0m \u001b[0mmodel\u001b[0m\u001b[0;34m.\u001b[0m\u001b[0mfit\u001b[0m\u001b[0;34m(\u001b[0m\u001b[0mX_train\u001b[0m\u001b[0;34m,\u001b[0m \u001b[0my_train\u001b[0m\u001b[0;34m,\u001b[0m \u001b[0mepochs\u001b[0m\u001b[0;34m=\u001b[0m\u001b[0;36m20\u001b[0m\u001b[0;34m,\u001b[0m \u001b[0mvalidation_split\u001b[0m\u001b[0;34m=\u001b[0m\u001b[0;36m0.2\u001b[0m\u001b[0;34m,\u001b[0m \u001b[0mbatch_size\u001b[0m\u001b[0;34m=\u001b[0m\u001b[0;36m16\u001b[0m\u001b[0;34m)\u001b[0m\u001b[0;34m\u001b[0m\u001b[0;34m\u001b[0m\u001b[0m\n\u001b[0m",
            "\u001b[0;31mNameError\u001b[0m: name 'model' is not defined"
          ]
        }
      ]
    }
  ],
  "metadata": {
    "colab": {
      "provenance": [],
      "gpuType": "T4",
      "include_colab_link": true
    },
    "kaggle": {
      "accelerator": "none",
      "dataSources": [
        {
          "datasetId": 1365,
          "sourceId": 33866,
          "sourceType": "datasetVersion"
        }
      ],
      "dockerImageVersionId": 30732,
      "isGpuEnabled": false,
      "isInternetEnabled": false,
      "language": "python",
      "sourceType": "notebook"
    },
    "kernelspec": {
      "display_name": "Python 3",
      "name": "python3"
    },
    "language_info": {
      "codemirror_mode": {
        "name": "ipython",
        "version": 3
      },
      "file_extension": ".py",
      "mimetype": "text/x-python",
      "name": "python",
      "nbconvert_exporter": "python",
      "pygments_lexer": "ipython3",
      "version": "3.10.13"
    },
    "accelerator": "GPU"
  },
  "nbformat": 4,
  "nbformat_minor": 0
}